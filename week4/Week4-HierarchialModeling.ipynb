{
 "cells": [
  {
   "cell_type": "code",
   "execution_count": null,
   "metadata": {},
   "outputs": [],
   "source": [
    "dat = read.table(file=\"cookies.dat\", header=TRUE)\n",
    "head(dat)"
   ]
  },
  {
   "cell_type": "code",
   "execution_count": null,
   "metadata": {},
   "outputs": [],
   "source": [
    "table(dat$location)"
   ]
  },
  {
   "cell_type": "code",
   "execution_count": null,
   "metadata": {},
   "outputs": [],
   "source": [
    "boxplot(chips ~ location, data = dat)"
   ]
  },
  {
   "cell_type": "code",
   "execution_count": null,
   "metadata": {},
   "outputs": [],
   "source": [
    "set.seed(112)\n",
    "n_sim = 500\n",
    "alpha_pri = rexp(n_sim, 1/2)\n",
    "beta_pri = rexp(n_sim, 5.0)\n",
    "\n",
    "mu_pri = alpha_pri / beta_pri\n",
    "sig_pri = sqrt(alpha_pri / beta_pri^2)\n",
    "summary(mu_pri)"
   ]
  },
  {
   "cell_type": "code",
   "execution_count": null,
   "metadata": {},
   "outputs": [],
   "source": [
    "summary(sig_pri)"
   ]
  },
  {
   "cell_type": "code",
   "execution_count": null,
   "metadata": {},
   "outputs": [],
   "source": [
    "lam_pri = rgamma(n_sim, shape = alpha_pri, rate = beta_pri)"
   ]
  },
  {
   "cell_type": "code",
   "execution_count": null,
   "metadata": {},
   "outputs": [],
   "source": [
    "summary(lam_pri)b"
   ]
  },
  {
   "cell_type": "code",
   "execution_count": null,
   "metadata": {},
   "outputs": [],
   "source": [
    "y_pri = rpois(n_sim, lambda = lam_pri)"
   ]
  },
  {
   "cell_type": "code",
   "execution_count": null,
   "metadata": {},
   "outputs": [],
   "source": [
    "hist(y_pri[y_pri < 100], breaks=50, col = 'blue', xlim=c(0, 100))\n",
    "hist(lam_pri[lam_pri < 100], breaks=50, col = 'green', add=TRUE)\n",
    "hist(mu_pri[mu_pri < 100], breaks=50, col = 'yellow', add=TRUE)"
   ]
  },
  {
   "cell_type": "code",
   "execution_count": null,
   "metadata": {},
   "outputs": [],
   "source": [
    "source(\"../shared.R\")"
   ]
  },
  {
   "cell_type": "code",
   "execution_count": null,
   "metadata": {},
   "outputs": [],
   "source": [
    "mod_str = \"model {\n",
    "    for (i in 1:length(chips)) {\n",
    "        chips[i] ~ dpois(lam[location[i]])\n",
    "    }\n",
    "    \n",
    "    for (j in 1:max(location)) {\n",
    "        lam[j] ~ dgamma(alpha, beta)\n",
    "    }\n",
    "    \n",
    "    # we assign priors on mean and variances rather than alpha and beta direcly    \n",
    "    mu ~ dgamma(2., 1/5.)\n",
    "    sig ~ dexp(1.0)    \n",
    "    alpha = mu^2 / sig^2\n",
    "    beta = mu / sig^2    \n",
    "}\"\n",
    "\n",
    "set.seed(113)\n",
    "data_jags = as.list(dat)\n",
    "\n",
    "params = c(\"lam\", \"mu\", \"sig\", \"alpha\", \"beta\")"
   ]
  },
  {
   "cell_type": "code",
   "execution_count": null,
   "metadata": {},
   "outputs": [],
   "source": [
    "mod = jags_model_compile(mod_str, data_jags)"
   ]
  },
  {
   "cell_type": "code",
   "execution_count": null,
   "metadata": {},
   "outputs": [],
   "source": [
    "mod_sim = jags_model_sample(mod_ = mod, var_names_ = params, n_iter_ = 5e3)\n",
    "mod_diag = jags_model_diag(samples_ = mod_sim$samples)"
   ]
  },
  {
   "cell_type": "code",
   "execution_count": null,
   "metadata": {},
   "outputs": [],
   "source": [
    "#plot(mod_sim$samples)"
   ]
  },
  {
   "cell_type": "code",
   "execution_count": null,
   "metadata": {},
   "outputs": [],
   "source": [
    "dic1 = dic.samples(mod, n.iter = 1e4)\n",
    "dic1"
   ]
  },
  {
   "cell_type": "markdown",
   "metadata": {},
   "source": [
    "## Model Checking (via residuals)\n",
    "\n",
    "There are 2 levels of residuals, one for mean level, the other is for chips levels"
   ]
  },
  {
   "cell_type": "code",
   "execution_count": null,
   "metadata": {},
   "outputs": [],
   "source": [
    "pm_params = colMeans(mod_sim$samples_cmb)\n",
    "pm_params"
   ]
  },
  {
   "cell_type": "code",
   "execution_count": null,
   "metadata": {},
   "outputs": [],
   "source": [
    "yhat  = rep(pm_params[3:7], each=30)\n",
    "resid = dat$chips - yhat"
   ]
  },
  {
   "cell_type": "code",
   "execution_count": null,
   "metadata": {},
   "outputs": [],
   "source": [
    "#plot(resid)"
   ]
  },
  {
   "cell_type": "markdown",
   "metadata": {},
   "source": [
    "Because we expect the resid distributed as Poisson, we expect the var resid will be eq to $\\lambda$\n",
    "\n",
    "If its bigger that $\\lambda$ we observe the problem of overdispersion \n",
    "\n",
    "and probably would like to change underlying distribution to something different, like Neg-Binomial or something different"
   ]
  },
  {
   "cell_type": "code",
   "execution_count": null,
   "metadata": {},
   "outputs": [],
   "source": [
    "var(resid[yhat < 7])"
   ]
  },
  {
   "cell_type": "code",
   "execution_count": null,
   "metadata": {},
   "outputs": [],
   "source": [
    "plot(jitter(yhat), resid)"
   ]
  },
  {
   "cell_type": "code",
   "execution_count": null,
   "metadata": {},
   "outputs": [],
   "source": [
    "lam_resid  = pm_params[3:7] - pm_params['mu']\n",
    "plot(lam_resid)"
   ]
  },
  {
   "cell_type": "code",
   "execution_count": null,
   "metadata": {},
   "outputs": [],
   "source": [
    "summary(mod_sim$samples_cmb)"
   ]
  },
  {
   "cell_type": "markdown",
   "metadata": {},
   "source": [
    "## Posterior predictive simulations"
   ]
  },
  {
   "cell_type": "code",
   "execution_count": null,
   "metadata": {},
   "outputs": [],
   "source": [
    "n = length(mod_sim$samples_cmb[,'alpha'])\n",
    "lam_pred = rgamma(n, shape = mod_sim$samples_cmb[,'alpha'], rate = mod_sim$samples_cmb[,'beta'])"
   ]
  },
  {
   "cell_type": "code",
   "execution_count": null,
   "metadata": {},
   "outputs": [],
   "source": [
    "mean(lam_pred > 15)"
   ]
  },
  {
   "cell_type": "code",
   "execution_count": null,
   "metadata": {},
   "outputs": [],
   "source": [
    "y_pred = rpois(n, lambda = lam_pred)"
   ]
  },
  {
   "cell_type": "code",
   "execution_count": null,
   "metadata": {},
   "outputs": [],
   "source": [
    "hist(y_pred, freq=FALSE, colr= 'blue')\n",
    "hist(dat$chips, freq=FALSE, add=TRUE, color='green')"
   ]
  }
 ],
 "metadata": {
  "kernelspec": {
   "display_name": "R",
   "language": "R",
   "name": "ir"
  },
  "language_info": {
   "codemirror_mode": "r",
   "file_extension": ".r",
   "mimetype": "text/x-r-source",
   "name": "R",
   "pygments_lexer": "r",
   "version": "3.3.2"
  }
 },
 "nbformat": 4,
 "nbformat_minor": 2
}
