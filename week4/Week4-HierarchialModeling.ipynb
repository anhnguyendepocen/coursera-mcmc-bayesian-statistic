{
 "cells": [
  {
   "cell_type": "code",
   "execution_count": 1,
   "metadata": {},
   "outputs": [
    {
     "data": {
      "text/html": [
       "<table>\n",
       "<thead><tr><th scope=col>chips</th><th scope=col>location</th></tr></thead>\n",
       "<tbody>\n",
       "\t<tr><td>12</td><td>1 </td></tr>\n",
       "\t<tr><td>12</td><td>1 </td></tr>\n",
       "\t<tr><td> 6</td><td>1 </td></tr>\n",
       "\t<tr><td>13</td><td>1 </td></tr>\n",
       "\t<tr><td>12</td><td>1 </td></tr>\n",
       "\t<tr><td>12</td><td>1 </td></tr>\n",
       "</tbody>\n",
       "</table>\n"
      ],
      "text/latex": [
       "\\begin{tabular}{r|ll}\n",
       " chips & location\\\\\n",
       "\\hline\n",
       "\t 12 & 1 \\\\\n",
       "\t 12 & 1 \\\\\n",
       "\t  6 & 1 \\\\\n",
       "\t 13 & 1 \\\\\n",
       "\t 12 & 1 \\\\\n",
       "\t 12 & 1 \\\\\n",
       "\\end{tabular}\n"
      ],
      "text/markdown": [
       "\n",
       "chips | location | \n",
       "|---|---|---|---|---|---|\n",
       "| 12 | 1  | \n",
       "| 12 | 1  | \n",
       "|  6 | 1  | \n",
       "| 13 | 1  | \n",
       "| 12 | 1  | \n",
       "| 12 | 1  | \n",
       "\n",
       "\n"
      ],
      "text/plain": [
       "  chips location\n",
       "1 12    1       \n",
       "2 12    1       \n",
       "3  6    1       \n",
       "4 13    1       \n",
       "5 12    1       \n",
       "6 12    1       "
      ]
     },
     "metadata": {},
     "output_type": "display_data"
    }
   ],
   "source": [
    "dat = read.table(file=\"cookies.dat\", header=TRUE)\n",
    "head(dat)"
   ]
  },
  {
   "cell_type": "code",
   "execution_count": 2,
   "metadata": {},
   "outputs": [
    {
     "data": {
      "text/plain": [
       "\n",
       " 1  2  3  4  5 \n",
       "30 30 30 30 30 "
      ]
     },
     "metadata": {},
     "output_type": "display_data"
    }
   ],
   "source": [
    "table(dat$location)"
   ]
  },
  {
   "cell_type": "code",
   "execution_count": 5,
   "metadata": {},
   "outputs": [
    {
     "data": {
      "image/png": "[encoded data removed]",
      "text/plain": [
       "plot without title"
      ]
     },
     "metadata": {},
     "output_type": "display_data"
    }
   ],
   "source": [
    "boxplot(chips ~ location, data = dat)"
   ]
  },
  {
   "cell_type": "code",
   "execution_count": 9,
   "metadata": {},
   "outputs": [
    {
     "data": {
      "text/plain": [
       "    Min.  1st Qu.   Median     Mean  3rd Qu.     Max. \n",
       "   0.021    2.983    9.852   61.130   29.980 4859.000 "
      ]
     },
     "metadata": {},
     "output_type": "display_data"
    }
   ],
   "source": [
    "set.seed(112)\n",
    "n_sim = 500\n",
    "alpha_pri = rexp(n_sim, 1/2)\n",
    "beta_pri = rexp(n_sim, 5.0)\n",
    "\n",
    "mu_pri = alpha_pri / beta_pri\n",
    "sig_pri = sqrt(alpha_pri / beta_pri^2)\n",
    "\n",
    "summary(mu_pri)"
   ]
  },
  {
   "cell_type": "code",
   "execution_count": 10,
   "metadata": {},
   "outputs": [
    {
     "data": {
      "text/plain": [
       "     Min.   1st Qu.    Median      Mean   3rd Qu.      Max. \n",
       "   0.1834    3.3660    8.5490   41.8100   22.2200 2866.0000 "
      ]
     },
     "metadata": {},
     "output_type": "display_data"
    }
   ],
   "source": [
    "summary(sig_pri)"
   ]
  },
  {
   "cell_type": "code",
   "execution_count": 12,
   "metadata": {},
   "outputs": [],
   "source": [
    "?rgamma"
   ]
  },
  {
   "cell_type": "code",
   "execution_count": 11,
   "metadata": {},
   "outputs": [],
   "source": [
    "lam_pri = rgamma(n_sim, shape = alpha_pri, rate = beta_pri)\n"
   ]
  }
 ],
 "metadata": {
  "kernelspec": {
   "display_name": "R",
   "language": "R",
   "name": "ir"
  },
  "language_info": {
   "codemirror_mode": "r",
   "file_extension": ".r",
   "mimetype": "text/x-r-source",
   "name": "R",
   "pygments_lexer": "r",
   "version": "3.3.2"
  }
 },
 "nbformat": 4,
 "nbformat_minor": 2
}
