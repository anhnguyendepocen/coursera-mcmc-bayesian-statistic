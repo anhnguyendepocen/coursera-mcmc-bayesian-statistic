{
 "cells": [
  {
   "cell_type": "code",
   "execution_count": null,
   "metadata": {},
   "outputs": [],
   "source": [
    "source(\"../shared.R\")"
   ]
  },
  {
   "cell_type": "code",
   "execution_count": null,
   "metadata": {},
   "outputs": [],
   "source": [
    "dat = read.csv(file=\"pctgrowth.csv\", header=TRUE)"
   ]
  },
  {
   "cell_type": "code",
   "execution_count": null,
   "metadata": {},
   "outputs": [],
   "source": [
    "summary(dat)"
   ]
  },
  {
   "cell_type": "code",
   "execution_count": null,
   "metadata": {},
   "outputs": [],
   "source": [
    "table(dat$grp)"
   ]
  },
  {
   "cell_type": "code",
   "execution_count": null,
   "metadata": {},
   "outputs": [],
   "source": [
    "boxplot( y ~ grp, data=dat)"
   ]
  },
  {
   "cell_type": "code",
   "execution_count": null,
   "metadata": {},
   "outputs": [],
   "source": [
    "str_mod = \"model {\n",
    "    for (i in 1:length(y)) {\n",
    "        y[i] ~ dnorm(theta[grp[i]], prec)\n",
    "    }\n",
    "    for (j in 1:max(grp)) {\n",
    "        theta[j] ~ dnorm(mu, tau_prec)\n",
    "    }\n",
    "    mu ~ dnorm(0, 1e-6)\n",
    "    tau_prec ~ dgamma(1./2, 3./2)\n",
    "    prec ~ dgamma(2./2, 2./2)\n",
    "\n",
    "    sig = sqrt(1/prec)\n",
    "    tau = sqrt(1/tau_prec)\n",
    "}\"\n",
    "\n",
    "data_jags = as.list(dat)\n",
    "mod = jags_model_compile(str_mod, data_jags)\n",
    "params = c(\"theta\", \"mu\", \"sig\", \"tau\")\n",
    "mod_sim = jags_model_sample(mod, var_names_ = params, n_iter_ = 1e4)\n",
    "mod_diag = jags_model_diag(mod_sim$samples)"
   ]
  },
  {
   "cell_type": "code",
   "execution_count": null,
   "metadata": {},
   "outputs": [],
   "source": [
    "plot(mod_sim$samples)"
   ]
  },
  {
   "cell_type": "code",
   "execution_count": null,
   "metadata": {},
   "outputs": [],
   "source": [
    "post_means = colMeans(mod_sim$samples_cmb)"
   ]
  },
  {
   "cell_type": "code",
   "execution_count": null,
   "metadata": {},
   "outputs": [],
   "source": [
    "mean(dat$y)"
   ]
  },
  {
   "cell_type": "code",
   "execution_count": null,
   "metadata": {},
   "outputs": [],
   "source": [
    "var(dat$y)"
   ]
  },
  {
   "cell_type": "code",
   "execution_count": null,
   "metadata": {},
   "outputs": [],
   "source": [
    "summary(mod_sim$samples_cmb)"
   ]
  },
  {
   "cell_type": "code",
   "execution_count": null,
   "metadata": {},
   "outputs": [],
   "source": [
    "post_means"
   ]
  },
  {
   "cell_type": "code",
   "execution_count": null,
   "metadata": {},
   "outputs": [],
   "source": [
    "mean(mod_sim$samples_cmb[,'sig'] / mod_sim$samples_cmb[,'tau'] > 1)"
   ]
  },
  {
   "cell_type": "markdown",
   "metadata": {},
   "source": [
    "## Anova analysis"
   ]
  },
  {
   "cell_type": "code",
   "execution_count": null,
   "metadata": {},
   "outputs": [],
   "source": [
    "theta_means = post_means[4:length(post_means)]"
   ]
  },
  {
   "cell_type": "code",
   "execution_count": null,
   "metadata": {},
   "outputs": [],
   "source": [
    "means_anova = tapply(dat$y, INDEX=dat$grp, FUN=mean)\n",
    "plot(means_anova)\n",
    "points(post_means[4:8], col=\"red\")"
   ]
  }
 ],
 "metadata": {
  "kernelspec": {
   "display_name": "R",
   "language": "R",
   "name": "ir"
  },
  "language_info": {
   "codemirror_mode": "r",
   "file_extension": ".r",
   "mimetype": "text/x-r-source",
   "name": "R",
   "pygments_lexer": "r",
   "version": "3.3.2"
  }
 },
 "nbformat": 4,
 "nbformat_minor": 2
}
