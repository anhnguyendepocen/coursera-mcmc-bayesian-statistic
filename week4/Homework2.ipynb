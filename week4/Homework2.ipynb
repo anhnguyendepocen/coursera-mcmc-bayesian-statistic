{
 "cells": [
  {
   "cell_type": "code",
   "execution_count": null,
   "metadata": {},
   "outputs": [],
   "source": [
    "source(\"../shared.R\")\n",
    "library(\"MASS\")\n",
    "data(\"OME\")"
   ]
  },
  {
   "cell_type": "code",
   "execution_count": null,
   "metadata": {},
   "outputs": [],
   "source": [
    "dat = subset(OME, OME != \"N/A\")"
   ]
  },
  {
   "cell_type": "code",
   "execution_count": null,
   "metadata": {},
   "outputs": [],
   "source": [
    "dat = subset(OME, OME != \"N/A\")\n",
    "dat$OME = factor(dat$OME) # relabel OME\n",
    "dat$ID = as.numeric(factor(dat$ID))"
   ]
  },
  {
   "cell_type": "code",
   "execution_count": null,
   "metadata": {},
   "outputs": [],
   "source": [
    "mod_glm = glm(Correct/Trials ~ Age + OME + Loud + Noise, data=dat, weights=Trials, family=\"binomial\")\n",
    "X = model.matrix(mod_glm)[,-1]"
   ]
  },
  {
   "cell_type": "code",
   "execution_count": null,
   "metadata": {},
   "outputs": [],
   "source": [
    "summary(mod_glm)"
   ]
  },
  {
   "cell_type": "markdown",
   "metadata": {},
   "source": [
    "### Original non-hierarchial model"
   ]
  },
  {
   "cell_type": "code",
   "execution_count": null,
   "metadata": {},
   "outputs": [],
   "source": [
    "mod_string = \" model {\n",
    "    for (i in 1:length(y)) {\n",
    "        y[i] ~ dbin(phi[i], n[i])\n",
    "        logit(phi[i]) = b0 + b[1]*Age[i] + b[2]*OMElow[i] + b[3]*Loud[i] + b[4]*Noiseincoherent[i]\n",
    "    }\n",
    "    \n",
    "    b0 ~ dnorm(0.0, 1.0/5.0^2)\n",
    "    for (j in 1:4) {\n",
    "        b[j] ~ dnorm(0.0, 1.0/4.0^2)\n",
    "    }\n",
    "} \"\n",
    "data_jags = as.list(as.data.frame(X))\n",
    "data_jags$y = dat$Correct\n",
    "data_jags$n = dat$Trials\n",
    "data_jags$ID = dat$ID\n",
    "\n",
    "mod = jags_model_compile(str_model_ = mod_string, data_ = data_jags, burnout = 1e3)\n",
    "\n",
    "mod_sim = jags_model_sample(mod_ = mod, var_names_ = c(\"b0\", \"b\"), n_iter_ = 1e4)\n",
    "\n",
    "mod_diag = jags_model_diag(samples_ = mod_sim$samples)\n",
    "\n",
    "mod_diag$acf_diag"
   ]
  },
  {
   "cell_type": "code",
   "execution_count": null,
   "metadata": {},
   "outputs": [],
   "source": [
    "mod_diag$eff_size"
   ]
  },
  {
   "cell_type": "code",
   "execution_count": null,
   "metadata": {},
   "outputs": [],
   "source": [
    "head(dat)"
   ]
  },
  {
   "cell_type": "code",
   "execution_count": null,
   "metadata": {},
   "outputs": [],
   "source": [
    "mod_hierarchial_str = \" model {\n",
    "    for (i in 1:length(y)) {\n",
    "        y[i] ~ dbin(phi[i], n[i])\n",
    "        logit(phi[i]) = a[ID[i]] + b[1]*Age[i] + b[2]*OMElow[i] + b[3]*Loud[i] + b[4]*Noiseincoherent[i]\n",
    "    }\n",
    "\n",
    "    for (k in 1:max(ID)){\n",
    "        a[k] ~ dnorm(mu, prec)\n",
    "    }\n",
    "    mu ~ dnorm(0, 1/100.0)\n",
    "    prec ~ dgamma(1/2, 1/2)\n",
    "    \n",
    "    b0 ~ dnorm(0.0, 1.0/5.0^2)\n",
    "    for (j in 1:4) {\n",
    "        b[j] ~ dnorm(0.0, 1.0/4.0^2)\n",
    "    }\n",
    "} \"\n",
    "data_jags = as.list(as.data.frame(X))\n",
    "data_jags$y = dat$Correct\n",
    "data_jags$n = dat$Trials\n",
    "data_jags$ID = dat$ID\n",
    "\n",
    "mod_hierarchial = jags_model_compile(str_model_ = mod_hierarchial_str, data_ = data_jags, burnout = 1e3)"
   ]
  },
  {
   "cell_type": "code",
   "execution_count": null,
   "metadata": {},
   "outputs": [],
   "source": [
    "plot(mod_hierarchial_sim$samples_cmb[, c(\"a[8]\", \"b[1]\", \"b[2]\")])"
   ]
  },
  {
   "cell_type": "code",
   "execution_count": null,
   "metadata": {},
   "outputs": [],
   "source": [
    "\n",
    "mod_hierarchial_sim = jags_model_sample(mod_ = mod_hierarchial, var_names_ = c(\"a\", \"b0\", \"b\"), n_iter_ = 5e3)\n",
    "\n",
    "mod_hierarchial_diag = jags_model_diag(samples_ = mod_hierarchial_sim$samples)\n"
   ]
  },
  {
   "cell_type": "code",
   "execution_count": null,
   "metadata": {},
   "outputs": [],
   "source": [
    "dic.samples(model = mod_hierarchial, n.iter = 1e3)"
   ]
  }
 ],
 "metadata": {
  "kernelspec": {
   "display_name": "R",
   "language": "R",
   "name": "ir"
  },
  "language_info": {
   "codemirror_mode": "r",
   "file_extension": ".r",
   "mimetype": "text/x-r-source",
   "name": "R",
   "pygments_lexer": "r",
   "version": "3.3.2"
  }
 },
 "nbformat": 4,
 "nbformat_minor": 2
}
