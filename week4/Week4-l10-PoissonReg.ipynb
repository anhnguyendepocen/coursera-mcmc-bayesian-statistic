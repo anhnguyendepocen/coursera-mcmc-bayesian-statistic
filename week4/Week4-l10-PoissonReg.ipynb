{
 "cells": [
  {
   "cell_type": "code",
   "execution_count": null,
   "metadata": {},
   "outputs": [],
   "source": [
    "source(\"../shared.R\")"
   ]
  },
  {
   "cell_type": "code",
   "execution_count": null,
   "metadata": {},
   "outputs": [],
   "source": [
    "library(\"COUNT\")\n",
    "data(\"badhealth\")"
   ]
  },
  {
   "cell_type": "code",
   "execution_count": null,
   "metadata": {},
   "outputs": [],
   "source": [
    "head(badhealth)"
   ]
  },
  {
   "cell_type": "code",
   "execution_count": null,
   "metadata": {},
   "outputs": [],
   "source": [
    "hist(badhealth$numvisit, breaks=20)"
   ]
  },
  {
   "cell_type": "code",
   "execution_count": null,
   "metadata": {},
   "outputs": [],
   "source": [
    "plot(jitter(log(numvisit)) ~ jitter(age), data=badhealth, subset=badh==0, xlab=\"age\", ylab=\"log(visits)\")\n",
    "points(jitter(log(numvisit)) ~ jitter(age), data=badhealth, subset=badh==1, col=\"red\")"
   ]
  },
  {
   "cell_type": "code",
   "execution_count": null,
   "metadata": {},
   "outputs": [],
   "source": [
    "str_mod = \" model {\n",
    "    for (i in 1: length(numvisit)) {\n",
    "        numvisit[i] ~ dpois(lam[i])\n",
    "        log(lam[i]) = int + b_badh*badh[i] + b_age*age[i] + b_intx*age[i]*badh[i]\n",
    "    }    \n",
    "    int ~ dnorm(0, 1e-6)\n",
    "    b_badh ~ dnorm(0, 1e-6)\n",
    "    b_age ~ dnorm(0, 1e-6)\n",
    "    b_intx ~ dnorm(0, 1e-6)\n",
    "} \"\n",
    "\n",
    "mod = jags_model_compile(str_mod, as.list(badhealth), burnout = 1e3 )"
   ]
  },
  {
   "cell_type": "code",
   "execution_count": null,
   "metadata": {},
   "outputs": [],
   "source": [
    "params = c(\"int\", \"b_badh\", \"b_age\", \"b_intx\")\n",
    "modsamples  = jags_model_sample(mod, var_names_ = params, n_iter_ = 5e3)\n",
    "moddiag = jags_model_diag(modsamples$samples)"
   ]
  },
  {
   "cell_type": "code",
   "execution_count": null,
   "metadata": {},
   "outputs": [],
   "source": [
    "dic1 = dic.samples(mod, n.iter = 5e3)"
   ]
  },
  {
   "cell_type": "code",
   "execution_count": null,
   "metadata": {},
   "outputs": [],
   "source": [
    "dic1"
   ]
  },
  {
   "cell_type": "code",
   "execution_count": null,
   "metadata": {},
   "outputs": [],
   "source": [
    "str_mod2 = \" model {\n",
    "    for (i in 1: length(numvisit)) {\n",
    "        numvisit[i] ~ dpois(lam[i])\n",
    "        log(lam[i]) = int + b_badh*badh[i] + b_age*age[i]\n",
    "    }    \n",
    "    int ~ dnorm(0, 1e-6)\n",
    "    b_badh ~ dnorm(0, 1e-6)\n",
    "    b_age ~ dnorm(0, 1e-6)\n",
    "    b_intx ~ dnorm(0, 1e-6)\n",
    "} \"\n",
    "data2 = list(numvisit = badhealth$numvisit, badh = badhealth$badh, age = badhealth$age)\n",
    "mod2 = jags_model_compile(str_mod2, data2, burnout = 1e3 )"
   ]
  },
  {
   "cell_type": "code",
   "execution_count": null,
   "metadata": {},
   "outputs": [],
   "source": [
    "dic2 = dic.samples(mod2, n.iter = 5e3)"
   ]
  },
  {
   "cell_type": "code",
   "execution_count": null,
   "metadata": {},
   "outputs": [],
   "source": [
    "dic2"
   ]
  },
  {
   "cell_type": "code",
   "execution_count": null,
   "metadata": {},
   "outputs": [],
   "source": [
    "plot(density(modsamples$samples_cmb[,\"b_badh\"]))"
   ]
  },
  {
   "cell_type": "markdown",
   "metadata": {},
   "source": [
    "## Model Checking"
   ]
  },
  {
   "cell_type": "code",
   "execution_count": null,
   "metadata": {},
   "outputs": [],
   "source": [
    "X = as.matrix(badhealth[,-1])\n",
    "X = cbind(X, with(badhealth, badh*age))\n",
    "head(X)"
   ]
  },
  {
   "cell_type": "code",
   "execution_count": null,
   "metadata": {},
   "outputs": [],
   "source": [
    "pmed_cff = apply(modsamples$samples_cmb, 2, median)\n",
    "pmed_cff"
   ]
  },
  {
   "cell_type": "code",
   "execution_count": null,
   "metadata": {},
   "outputs": [],
   "source": [
    "lam_hat = exp(pmed_cff['int'] + X %*% pmed_cff[c('b_badh', 'b_age', 'b_intx')])"
   ]
  },
  {
   "cell_type": "code",
   "execution_count": null,
   "metadata": {},
   "outputs": [],
   "source": [
    "resid = badhealth$numvisit - lam_hat\n",
    "plot(resid)"
   ]
  },
  {
   "cell_type": "code",
   "execution_count": null,
   "metadata": {},
   "outputs": [],
   "source": [
    "plot(lam_hat, badhealth$numvisit)\n",
    "abline(0.0, 1.0)"
   ]
  },
  {
   "cell_type": "code",
   "execution_count": null,
   "metadata": {},
   "outputs": [],
   "source": [
    "good_healt = which(badhealth$badh == 0)\n",
    "bad_healt = which(badhealth$badh == 1)\n",
    "plot(lam_hat[good_healt], resid[good_healt], xlim=c(0,8))\n",
    "points(lam_hat[bad_healt], resid[bad_healt], col=\"red\")"
   ]
  },
  {
   "cell_type": "code",
   "execution_count": null,
   "metadata": {},
   "outputs": [],
   "source": [
    "var(resid[good_healt]) # we expect the variance to be equal to poisson distr"
   ]
  },
  {
   "cell_type": "code",
   "execution_count": null,
   "metadata": {},
   "outputs": [],
   "source": [
    "var(resid[bad_healt])"
   ]
  },
  {
   "cell_type": "code",
   "execution_count": null,
   "metadata": {},
   "outputs": [],
   "source": [
    "summary(modsamples$samples_cmb)"
   ]
  },
  {
   "cell_type": "code",
   "execution_count": null,
   "metadata": {},
   "outputs": [],
   "source": [
    "x1 = c(0, 35, 0)  # good health\n",
    "x2 = c(1, 35, 35) # bad health"
   ]
  },
  {
   "cell_type": "code",
   "execution_count": null,
   "metadata": {},
   "outputs": [],
   "source": [
    "sim = modsamples$samples_cmb\n",
    "n_sim = length(sim)\n",
    "lam1 = exp( sim[, \"int\"] + sim[, c(2,1,3)] %*% x1)\n",
    "lam2 = exp( sim[, \"int\"] + sim[, c(2,1,3)] %*% x2)"
   ]
  },
  {
   "cell_type": "code",
   "execution_count": null,
   "metadata": {},
   "outputs": [],
   "source": [
    "?rpois"
   ]
  },
  {
   "cell_type": "code",
   "execution_count": null,
   "metadata": {},
   "outputs": [],
   "source": [
    "y1 = rpois(n=n_sim, lambda = lam1)\n",
    "y2 = rpois(n=n_sim, lambda = lam2)"
   ]
  },
  {
   "cell_type": "code",
   "execution_count": null,
   "metadata": {},
   "outputs": [],
   "source": [
    "plot(table(factor(y1, levels=0:18))/n_sim, pch=2, ylab=\"posterior prob.\", xlab=\"visits\")\n",
    "points(table(y2+0.1)/n_sim, col=\"red\")"
   ]
  },
  {
   "cell_type": "code",
   "execution_count": null,
   "metadata": {},
   "outputs": [],
   "source": [
    "mean(y2 > y1)"
   ]
  },
  {
   "cell_type": "code",
   "execution_count": null,
   "metadata": {},
   "outputs": [],
   "source": [
    "exp(1.5 - 0.3*0.8 + 1.2)"
   ]
  },
  {
   "cell_type": "code",
   "execution_count": null,
   "metadata": {},
   "outputs": [],
   "source": [
    "y = rpois(n = 1e6,lambda = 30) "
   ]
  },
  {
   "cell_type": "code",
   "execution_count": null,
   "metadata": {},
   "outputs": [],
   "source": [
    "mean(y < 22)"
   ]
  }
 ],
 "metadata": {
  "kernelspec": {
   "display_name": "R",
   "language": "R",
   "name": "ir"
  },
  "language_info": {
   "codemirror_mode": "r",
   "file_extension": ".r",
   "mimetype": "text/x-r-source",
   "name": "R",
   "pygments_lexer": "r",
   "version": "3.3.2"
  }
 },
 "nbformat": 4,
 "nbformat_minor": 2
}
