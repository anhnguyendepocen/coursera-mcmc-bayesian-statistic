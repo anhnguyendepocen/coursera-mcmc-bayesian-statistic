{
 "cells": [
  {
   "cell_type": "code",
   "execution_count": null,
   "metadata": {},
   "outputs": [],
   "source": [
    "library(\"rjags\")"
   ]
  },
  {
   "cell_type": "code",
   "execution_count": null,
   "metadata": {},
   "outputs": [],
   "source": [
    "mod_string = \" model {\n",
    "  for (i in 1:n) {\n",
    "    y[i] ~ dnorm(mu, 1.0/sig2)\n",
    "  }\n",
    "  mu ~ dt(0.0, 1.0/1.0, 1.0) # location, inverse scale, degrees of freedom\n",
    "  sig2 = 1.0\n",
    "} \""
   ]
  },
  {
   "cell_type": "code",
   "execution_count": null,
   "metadata": {},
   "outputs": [],
   "source": [
    "set.seed(50)\n",
    "#y = c(1.2, 1.4, -0.5, 0.3, 0.9, 2.3, 1.0, 0.1, 1.3, 1.9)\n",
    "y = c(-0.2, -1.5, -5.3, 0.3, -0.8, -2.2)\n",
    "n = length(y)"
   ]
  },
  {
   "cell_type": "code",
   "execution_count": null,
   "metadata": {},
   "outputs": [],
   "source": [
    "data_jags = list(y=y, n=n)\n",
    "params = (\"mu\")"
   ]
  },
  {
   "cell_type": "code",
   "execution_count": null,
   "metadata": {},
   "outputs": [],
   "source": [
    "inits = function(){\n",
    "    inits = list(\"mu\"=0.0)\n",
    "}"
   ]
  },
  {
   "cell_type": "code",
   "execution_count": null,
   "metadata": {},
   "outputs": [],
   "source": [
    "mod = jags.model(textConnection(mod_string), data=data_jags, inits = inits)"
   ]
  },
  {
   "cell_type": "code",
   "execution_count": null,
   "metadata": {},
   "outputs": [],
   "source": [
    "update(mod, 500)"
   ]
  },
  {
   "cell_type": "code",
   "execution_count": null,
   "metadata": {},
   "outputs": [],
   "source": [
    "mod_sim = coda.samples(model = mod, variable.names = params, n.iter = 5000)"
   ]
  },
  {
   "cell_type": "code",
   "execution_count": null,
   "metadata": {},
   "outputs": [],
   "source": [
    "# post processing\n",
    "library(\"coda\")\n",
    "plot(mod_sim)"
   ]
  },
  {
   "cell_type": "code",
   "execution_count": null,
   "metadata": {},
   "outputs": [],
   "source": [
    "summary(mod_sim)"
   ]
  },
  {
   "cell_type": "markdown",
   "metadata": {},
   "source": [
    "### Self Made Gibbs Sampler"
   ]
  },
  {
   "cell_type": "code",
   "execution_count": null,
   "metadata": {},
   "outputs": [],
   "source": [
    "update_mu = function(n, ybar, sig2, mu_0, sig2_0) {\n",
    "  sig2_1 = 1.0 / (n / sig2 + 1.0 / sig2_0)\n",
    "  mu_1 = sig2_1 * (n * ybar / sig2 + mu_0 / sig2_0)\n",
    "  rnorm(n=1, mean=mu_1, sd=sqrt(sig2_1))\n",
    "}\n",
    "\n",
    "update_sig2 = function(n, y, mu, nu_0, beta_0) {\n",
    "  nu_1 = nu_0 + n / 2.0\n",
    "  sumsq = sum( (y - mu)^2 ) # vectorized\n",
    "  beta_1 = beta_0 + sumsq / 2.0\n",
    "  out_gamma = rgamma(n=1, shape=nu_1, rate=beta_1) # rate for gamma is shape for inv-gamma\n",
    "  1.0 / out_gamma # reciprocal of a gamma random variable is distributed inv-gamma\n",
    "}"
   ]
  },
  {
   "cell_type": "code",
   "execution_count": null,
   "metadata": {},
   "outputs": [],
   "source": [
    "gibbs = function(y, n_iter, init, prior) {\n",
    "  ybar = mean(y)\n",
    "  n = length(y)\n",
    "  \n",
    "  ## initialize\n",
    "  mu_out = numeric(n_iter)\n",
    "  sig2_out = numeric(n_iter)\n",
    "  \n",
    "  mu_now = init$mu\n",
    "  \n",
    "  ## Gibbs sampler\n",
    "  for (i in 1:n_iter) {\n",
    "    sig2_now = update_sig2(n=n, y=y, mu=mu_now, nu_0=prior$nu_0, beta_0=prior$beta_0)\n",
    "    mu_now = update_mu(n=n, ybar=ybar, sig2=sig2_now, mu_0=prior$mu_0, sig2_0=prior$sig2_0)\n",
    "    \n",
    "    sig2_out[i] = sig2_now\n",
    "    mu_out[i] = mu_now\n",
    "  }\n",
    "  \n",
    "  cbind(mu=mu_out, sig2=sig2_out)\n",
    "}"
   ]
  },
  {
   "cell_type": "code",
   "execution_count": null,
   "metadata": {},
   "outputs": [],
   "source": [
    "y = y = c(-0.2, -1.5, -5.3, 0.3, -0.8, -2.2)\n",
    "ybar = mean(y)\n",
    "n = length(y)\n",
    "\n",
    "## prior\n",
    "prior = list()\n",
    "prior$mu_0 = 1.0\n",
    "prior$sig2_0 = 1.0\n",
    "\n",
    "prior$n_0 = 2.0 # prior effective sample size for sig2\n",
    "prior$s2_0 = 1.0 # prior point estimate for sig2\n",
    "\n",
    "prior$nu_0 = prior$n_0 / 2.0 # prior parameter for inverse-gamma\n",
    "prior$beta_0 = prior$n_0 * prior$s2_0 / 2.0 # prior parameter for inverse-gamma\n",
    "\n",
    "hist(y, freq=FALSE, xlim=c(-1.0, 3.0)) # histogram of the data\n",
    "curve(dnorm(x=x, mean=prior$mu_0, sd=sqrt(prior$sig2_0)), lty=2, add=TRUE) # prior for mu\n",
    "points(y, rep(0,n), pch=1) # individual data points\n",
    "points(ybar, 0, pch=19) # sample mean"
   ]
  },
  {
   "cell_type": "code",
   "execution_count": null,
   "metadata": {},
   "outputs": [],
   "source": [
    "set.seed(53)\n",
    "\n",
    "init = list()\n",
    "init$mu = 0.0\n",
    "\n",
    "post = gibbs(y=y, n_iter=5e3, init=init, prior=prior)\n",
    "library(\"coda\")\n",
    "plot(as.mcmc(post))"
   ]
  },
  {
   "cell_type": "code",
   "execution_count": null,
   "metadata": {},
   "outputs": [],
   "source": [
    "summary(as.mcmc(post))"
   ]
  },
  {
   "cell_type": "code",
   "execution_count": null,
   "metadata": {},
   "outputs": [],
   "source": [
    "?raftery.diag"
   ]
  },
  {
   "cell_type": "code",
   "execution_count": null,
   "metadata": {},
   "outputs": [],
   "source": [
    "?gelman.diag"
   ]
  }
 ],
 "metadata": {
  "kernelspec": {
   "display_name": "R",
   "language": "R",
   "name": "ir"
  },
  "language_info": {
   "codemirror_mode": "r",
   "file_extension": ".r",
   "mimetype": "text/x-r-source",
   "name": "R",
   "pygments_lexer": "r",
   "version": "3.3.2"
  }
 },
 "nbformat": 4,
 "nbformat_minor": 2
}
