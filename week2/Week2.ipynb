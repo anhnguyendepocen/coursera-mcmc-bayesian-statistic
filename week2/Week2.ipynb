{
 "cells": [
  {
   "cell_type": "code",
   "execution_count": null,
   "metadata": {},
   "outputs": [],
   "source": [
    "lg = function(mu, n, ybar){\n",
    "    mu2 = mu^2\n",
    "    n * (ybar *mu - mu2 / 2.0) - log(1 + mu2)\n",
    " }"
   ]
  },
  {
   "cell_type": "code",
   "execution_count": null,
   "metadata": {},
   "outputs": [],
   "source": [
    "#metropolis_hstings alg\n",
    "\n",
    "mh = function(n, ybar, n_iter, mu_init, cand_sd) {\n",
    "    \n",
    "    mu_out = numeric(n_iter)\n",
    "    accpt = 0\n",
    "    mu_now = mu_init\n",
    "    lg_now = lg(mu = mu_now, n = n, ybar = ybar)\n",
    "    \n",
    "    for (i in 1:n_iter) {\n",
    "        \n",
    "        mu_cand = rnorm(1, mean = mu_now, sd = cand_sd)\n",
    "        \n",
    "        lg_cand = lg(mu = mu_cand, n = n, ybar = ybar)\n",
    "        \n",
    "        lalpha = lg_cand - lg_now\n",
    "        alpha = exp(lalpha)\n",
    "        \n",
    "        \n",
    "        u = runif(1)\n",
    "        \n",
    "        if (u < alpha) { # accept the candidate\n",
    "            mu_now = mu_cand\n",
    "            accpt = accpt + 1\n",
    "            lg_now = lg_cand\n",
    "        }\n",
    "        \n",
    "        mu_out[i] = mu_cand\n",
    "    }\n",
    "    \n",
    "    list(mu=mu_out, accpt=accpt/n_iter)    \n",
    "}"
   ]
  },
  {
   "cell_type": "code",
   "execution_count": null,
   "metadata": {},
   "outputs": [],
   "source": [
    "y = c(-0.2, -1.5, -5.3, 0.3, -0.8, -2.2)\n",
    "ybar = mean(y)\n",
    "n = length(y)"
   ]
  },
  {
   "cell_type": "code",
   "execution_count": null,
   "metadata": {},
   "outputs": [],
   "source": [
    "n = length(y)\n",
    "hist(y, freq=FALSE, xlim=c(-1.0, 3.0)) # histogram of the data\n",
    "curve(dt(x=x, df=1), lty=2, add=TRUE) # prior for mu\n",
    "points(y, rep(0,n), pch=1) # individual data points\n",
    "points(ybar, 0, pch=19) # sample mean"
   ]
  },
  {
   "cell_type": "code",
   "execution_count": null,
   "metadata": {},
   "outputs": [],
   "source": [
    "set.seed(43) # set the random seed for reproducibility\n",
    "post = mh(n=n, ybar=ybar, n_iter=5e3, mu_init=0.0, cand_sd=3.0)\n",
    "str(post)"
   ]
  },
  {
   "cell_type": "code",
   "execution_count": null,
   "metadata": {},
   "outputs": [],
   "source": [
    "ds = c(0.5, 1.5, 3.0, 4.0)"
   ]
  },
  {
   "cell_type": "code",
   "execution_count": null,
   "metadata": {},
   "outputs": [],
   "source": [
    "for (sd in ds) {\n",
    "    post = mh(n=n, ybar=ybar, n_iter=5e3, mu_init=0.0, cand_sd=sd)\n",
    "    print(sd)\n",
    "    print (post$accpt)\n",
    "}"
   ]
  },
  {
   "cell_type": "code",
   "execution_count": null,
   "metadata": {},
   "outputs": [],
   "source": [
    "post = mh(n=n, ybar=ybar, n_iter=100e3, mu_init=0.0, cand_sd=1.5)"
   ]
  },
  {
   "cell_type": "code",
   "execution_count": null,
   "metadata": {},
   "outputs": [],
   "source": [
    "summary(as.mcmc(post$mu))"
   ]
  },
  {
   "cell_type": "code",
   "execution_count": null,
   "metadata": {},
   "outputs": [],
   "source": [
    "install.packages(\"coda\")\n",
    "library(\"coda\")"
   ]
  },
  {
   "cell_type": "code",
   "execution_count": null,
   "metadata": {},
   "outputs": [],
   "source": [
    "post = mh(n=n, ybar=ybar, n_iter=1e3, mu_init=0.0, cand_sd=3.0)\n",
    "str(post)\n",
    "traceplot(as.mcmc(post$mu))"
   ]
  },
  {
   "cell_type": "code",
   "execution_count": null,
   "metadata": {},
   "outputs": [],
   "source": [
    "post = mh(n=n, ybar=ybar, n_iter=1e3, mu_init=0.0, cand_sd=0.05)\n",
    "str(post)\n",
    "traceplot(as.mcmc(post$mu))"
   ]
  },
  {
   "cell_type": "code",
   "execution_count": null,
   "metadata": {},
   "outputs": [],
   "source": [
    "post = mh(n=n, ybar=ybar, n_iter=1e3, mu_init=0.0, cand_sd=0.9)\n",
    "str(post)\n",
    "traceplot(as.mcmc(post$mu))"
   ]
  },
  {
   "cell_type": "code",
   "execution_count": null,
   "metadata": {},
   "outputs": [],
   "source": [
    "post = mh(n=n, ybar=ybar, n_iter=1e3, mu_init=30.0, cand_sd=0.9)\n",
    "post$accpt\n",
    "traceplot(as.mcmc(post$mu))"
   ]
  },
  {
   "cell_type": "code",
   "execution_count": null,
   "metadata": {},
   "outputs": [],
   "source": [
    "post$mu_keep = post$mu[-c(1:200)] # discard the first 200 samples\n",
    "plot(density(post$mu_keep, adjust=2.0), main=\"\", xlim=c(-1.0, 3.0), xlab=expression(mu)) # plot density estimate of the posterior\n",
    "curve(dt(x=x, df=1), lty=2, add=TRUE) # prior for mu\n",
    "points(ybar, 0, pch=19) # sample mean\n",
    "\n",
    "curve(0.017*exp(lg(mu=x, n=n, ybar=ybar)), from=-1.0, to=3.0, add=TRUE, col=\"blue\") # approximation to the true posterior in blue"
   ]
  }
 ],
 "metadata": {
  "kernelspec": {
   "display_name": "R",
   "language": "R",
   "name": "ir"
  },
  "language_info": {
   "codemirror_mode": "r",
   "file_extension": ".r",
   "mimetype": "text/x-r-source",
   "name": "R",
   "pygments_lexer": "r",
   "version": "3.3.2"
  }
 },
 "nbformat": 4,
 "nbformat_minor": 2
}
