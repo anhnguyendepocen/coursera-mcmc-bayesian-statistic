{
 "cells": [
  {
   "cell_type": "code",
   "execution_count": null,
   "metadata": {},
   "outputs": [],
   "source": [
    "m = 1e5\n",
    "a = 2.0\n",
    "b = 1/3."
   ]
  },
  {
   "cell_type": "code",
   "execution_count": null,
   "metadata": {},
   "outputs": [],
   "source": [
    "theta = rgamma(n = m, shape = a, rate = b)\n",
    "hist(theta,freq = FALSE,)\n",
    "curve(dgamma(x, shape=a, rate = b), col = 'blue', add = TRUE)"
   ]
  },
  {
   "cell_type": "code",
   "execution_count": null,
   "metadata": {},
   "outputs": [],
   "source": [
    "c(mean(theta), var(theta))"
   ]
  },
  {
   "cell_type": "code",
   "execution_count": null,
   "metadata": {},
   "outputs": [],
   "source": [
    "ind = theta < 5\n",
    "print(c(mean(ind), var(ind)))\n",
    "print(pgamma(q = 5, shape = a, rate = b))"
   ]
  },
  {
   "cell_type": "markdown",
   "metadata": {},
   "source": [
    "Multilevel Simulations:\n",
    "\n",
    "$\\phi \\sim Beta(2,2)$\n",
    "\n",
    "$ y|\\phi \\sim Bin(10, \\phi)$\n"
   ]
  },
  {
   "cell_type": "code",
   "execution_count": null,
   "metadata": {},
   "outputs": [],
   "source": [
    "m = 1e5"
   ]
  },
  {
   "cell_type": "code",
   "execution_count": null,
   "metadata": {},
   "outputs": [],
   "source": [
    "phi = rbeta(n=m, shape1 = 2, shape2 = 2)\n",
    "y = rbinom(n=m, size = 10, prob = phi)"
   ]
  },
  {
   "cell_type": "markdown",
   "metadata": {},
   "source": [
    "Marginal ditribution of $y$ is Beta-Binomeal distribution"
   ]
  },
  {
   "cell_type": "code",
   "execution_count": null,
   "metadata": {},
   "outputs": [],
   "source": [
    "plot(table(y)/m)"
   ]
  },
  {
   "cell_type": "markdown",
   "metadata": {},
   "source": [
    "## Quiz: Lesson 3.5\n",
    "\n",
    "$ p(\\theta|y) \\sim Beta(5,3) $\n",
    "\n",
    "$ E(\\frac{\\theta}{1-\\theta}) = ?$"
   ]
  },
  {
   "cell_type": "code",
   "execution_count": null,
   "metadata": {},
   "outputs": [],
   "source": [
    "m = 1e7\n",
    "theta = rbeta(n=m, shape1 = 5, shape2 = 3)\n",
    "odds <- function(t){\n",
    "    return(t/(1-t))\n",
    "}\n",
    "print(mean(odds(theta)))\n",
    "print(mean(odds(theta) > 1.0))"
   ]
  },
  {
   "cell_type": "markdown",
   "metadata": {},
   "source": [
    "#### Quiz: Lesson 3.7-3.8"
   ]
  },
  {
   "cell_type": "code",
   "execution_count": null,
   "metadata": {},
   "outputs": [],
   "source": [
    "m = 1e7\n",
    "theta = rnorm(n = m, mean = 0, sd = 1)\n",
    "quantile(x=theta, probs=c(0.3))"
   ]
  },
  {
   "cell_type": "code",
   "execution_count": null,
   "metadata": {},
   "outputs": [],
   "source": [
    "qnorm(p=0.3, mean = 0, sd=1)"
   ]
  },
  {
   "cell_type": "code",
   "execution_count": null,
   "metadata": {},
   "outputs": [],
   "source": [
    "0.456/sqrt(50)"
   ]
  },
  {
   "cell_type": "markdown",
   "metadata": {},
   "source": [
    "## Markov Chain Readings\n",
    "\n",
    "#### Random Walk:\n",
    "\n",
    "$P(X_{t+1}|X_{t})=N(X_{t},1)$"
   ]
  },
  {
   "cell_type": "code",
   "execution_count": null,
   "metadata": {},
   "outputs": [],
   "source": [
    "set.seed(34)\n",
    "n = 100 \n",
    "x = numeric(n)\n",
    "for (i in 2:n) {\n",
    "    x[i] = rnorm(1, mean=x[i-1], sd = 1.0)\n",
    "}\n",
    "plot.ts(x)"
   ]
  },
  {
   "cell_type": "code",
   "execution_count": null,
   "metadata": {},
   "outputs": [],
   "source": [
    "Q = matrix(c(0.0, 0.5, 0.0, 0.0, 0.5,\n",
    "             0.5, 0.0, 0.5, 0.0, 0.0,\n",
    "             0.0, 0.5, 0.0, 0.5, 0.0,\n",
    "             0.0, 0.0, 0.5, 0.0, 0.5,\n",
    "             0.5, 0.0, 0.0, 0.5, 0.0), \n",
    "           nrow=5, byrow=TRUE)"
   ]
  },
  {
   "cell_type": "code",
   "execution_count": null,
   "metadata": {},
   "outputs": [],
   "source": [
    "(Q %*% Q)[1,3]"
   ]
  },
  {
   "cell_type": "markdown",
   "metadata": {},
   "source": [
    "### Random's walk stationary distribution , if $\\phi \\in [-1, 1]$"
   ]
  },
  {
   "cell_type": "code",
   "execution_count": null,
   "metadata": {},
   "outputs": [],
   "source": [
    "set.seed(38)\n",
    "n = 1500\n",
    "x = numeric(n)\n",
    "phi = -0.6\n",
    "for (i in 2:n) {\n",
    "  x[i] = rnorm(1, mean=phi*x[i-1], sd=1.0)\n",
    "}\n",
    "plot.ts(x)"
   ]
  },
  {
   "cell_type": "code",
   "execution_count": null,
   "metadata": {},
   "outputs": [],
   "source": [
    "hist(x, freq=FALSE)\n",
    "curve(dnorm(x, mean=0.0, sd=sqrt(1.0/(1.0-phi^2))), col=\"red\", add=TRUE)\n",
    "legend(\"topright\", legend=\"theoretical stationary\\ndistribution\", col=\"red\", lty=1, bty=\"n\")"
   ]
  },
  {
   "cell_type": "code",
   "execution_count": null,
   "metadata": {},
   "outputs": [],
   "source": [
    "Q = matrix(c(0.0, 1.0, 0.3, 0.7), \n",
    "           nrow=2, byrow=TRUE)"
   ]
  },
  {
   "cell_type": "code",
   "execution_count": null,
   "metadata": {},
   "outputs": [],
   "source": [
    "eigen(t(Q))"
   ]
  }
 ],
 "metadata": {
  "kernelspec": {
   "display_name": "R",
   "language": "R",
   "name": "ir"
  },
  "language_info": {
   "codemirror_mode": "r",
   "file_extension": ".r",
   "mimetype": "text/x-r-source",
   "name": "R",
   "pygments_lexer": "r",
   "version": "3.3.2"
  }
 },
 "nbformat": 4,
 "nbformat_minor": 2
}
