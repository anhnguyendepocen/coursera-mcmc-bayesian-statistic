{
 "cells": [
  {
   "cell_type": "code",
   "execution_count": null,
   "metadata": {},
   "outputs": [],
   "source": [
    "source(\"shared.R\")"
   ]
  },
  {
   "cell_type": "code",
   "execution_count": null,
   "metadata": {},
   "outputs": [],
   "source": [
    "data(\"PlantGrowth\")\n",
    "head(PlantGrowth)"
   ]
  },
  {
   "cell_type": "code",
   "execution_count": null,
   "metadata": {},
   "outputs": [],
   "source": [
    "boxplot(weight ~ group, data = PlantGrowth, main = \"PlantGrowth data\",\n",
    "        ylab = \"Dried weight of plants\", col = \"lightgray\",\n",
    "        notch = FALSE, varwidth = TRUE)"
   ]
  },
  {
   "cell_type": "code",
   "execution_count": null,
   "metadata": {},
   "outputs": [],
   "source": [
    "#?effects\n",
    "#?anova\n",
    "anova(lm(weight ~ group, data = PlantGrowth))"
   ]
  },
  {
   "cell_type": "code",
   "execution_count": null,
   "metadata": {},
   "outputs": [],
   "source": [
    "lmod = lm(weight ~ group, data=PlantGrowth)\n",
    "summary(lmod)"
   ]
  },
  {
   "cell_type": "code",
   "execution_count": null,
   "metadata": {},
   "outputs": [],
   "source": [
    "str_model = \"model {\n",
    "    for (i in 1:length(y)) { \n",
    "        y[i] ~ dnorm(mu[grp[i]], prec)\n",
    "    }\n",
    "    \n",
    "    for (j in 1:3) {\n",
    "        mu[j] ~ dnorm(0, 1./1.e6)\n",
    "    }\n",
    "\n",
    "    # here 5 is the sample size, 1 is the variance\n",
    "    prec ~ dgamma(5/2.0, 5*1/2.0) \n",
    "\n",
    "    sig = sqrt(1./prec)    \n",
    "} \"\n",
    "\n",
    "dat = c()\n",
    "var_names = c(\"mu\", \"sig\")\n",
    "inits = function() {\n",
    "    inits = list(\"mu\" = rnorm(3, 0, 100), \"prec\" = rgamma(1, 1., 1.))\n",
    "}\n",
    "data = list(y=PlantGrowth$weight, grp=as.numeric(PlantGrowth$group))"
   ]
  },
  {
   "cell_type": "code",
   "execution_count": null,
   "metadata": {},
   "outputs": [],
   "source": [
    "mod = jags_model_compile(str_model_ = str_model, data_ = data, inits_ = inits, n_chains_ = 3, burnout = 1e5)\n",
    "sim = jags_model_sample(mod_ = mod, n_iter_ = 1e4, var_names_ = var_names)\n",
    "mod_diag = jags_model_diag(samples_ = sim$samples)"
   ]
  },
  {
   "cell_type": "code",
   "execution_count": null,
   "metadata": {},
   "outputs": [],
   "source": [
    "pm_params = colMeans(sim$samples_cmb)\n",
    "summary(sim$samples)"
   ]
  },
  {
   "cell_type": "code",
   "execution_count": null,
   "metadata": {},
   "outputs": [],
   "source": [
    "HPDinterval(sim$samples_cmb[,3] - sim$samples_cmb[,1])"
   ]
  },
  {
   "cell_type": "code",
   "execution_count": null,
   "metadata": {},
   "outputs": [],
   "source": [
    "HPDinterval(sim$samples_cmb, prob = 0.9)"
   ]
  },
  {
   "cell_type": "code",
   "execution_count": null,
   "metadata": {},
   "outputs": [],
   "source": [
    "mod_cm = lm(weight ~ -1 + group, data=PlantGrowth)\n",
    "summary(mod_cm)"
   ]
  },
  {
   "cell_type": "code",
   "execution_count": null,
   "metadata": {},
   "outputs": [],
   "source": [
    "HPDinterval(sim$samples_cmb, prob = 0.9)"
   ]
  },
  {
   "cell_type": "markdown",
   "metadata": {},
   "source": [
    "## Fitting model with varied variance for each group"
   ]
  },
  {
   "cell_type": "code",
   "execution_count": null,
   "metadata": {},
   "outputs": [],
   "source": [
    "model_varied_var = \"model {\n",
    "    for (i in 1:length(y)) { \n",
    "        y[i] ~ dnorm(mu[grp[i]], prec[grp[i]])\n",
    "    }    \n",
    "    for (j in 1:3) {\n",
    "        mu[j] ~ dnorm(0, 1./1.e6)\n",
    "        prec[j] ~ dgamma(5/2.0, 5*1/2.0) \n",
    "        sig[j] = sqrt(1./prec[j])\n",
    "    }    \n",
    "} \"\n",
    "\n",
    "\n",
    "var_names = c(\"mu\", \"sig\")\n",
    "inits = function() {\n",
    "    inits = list(\"mu\" = rnorm(3, 0, 100), \"prec\" = rgamma(3, 1., 1.))\n",
    "}\n",
    "data = list(y=PlantGrowth$weight, grp=as.numeric(PlantGrowth$group))"
   ]
  },
  {
   "cell_type": "code",
   "execution_count": null,
   "metadata": {},
   "outputs": [],
   "source": [
    "jmod_varied_var = jags_model_compile(model_varied_var, data, inits)\n",
    "sim2 = jags_model_sample(jmod_varied_var, n_iter_ = 1e4, var_names_ = var_names)"
   ]
  },
  {
   "cell_type": "code",
   "execution_count": null,
   "metadata": {},
   "outputs": [],
   "source": [
    "dic.samples(mod, n.iter=1e5) - dic.samples(jmod_varied_var, n.iter=1e5)"
   ]
  },
  {
   "cell_type": "code",
   "execution_count": null,
   "metadata": {},
   "outputs": [],
   "source": [
    "d1 = dic.samples(model = jmod_varied_var, n.iter = 1e4)"
   ]
  },
  {
   "cell_type": "code",
   "execution_count": null,
   "metadata": {},
   "outputs": [],
   "source": [
    "dics = list(\"m1\" = dic.samples(model = jmod_varied_var, n.iter = 1e4),  \"m2\" = dic.samples(model = mod, n.iter = 1e4))"
   ]
  },
  {
   "cell_type": "code",
   "execution_count": null,
   "metadata": {},
   "outputs": [],
   "source": [
    "a = dic.samples(model = jmod_varied_var, n.iter = 1e4)"
   ]
  },
  {
   "cell_type": "code",
   "execution_count": null,
   "metadata": {},
   "outputs": [],
   "source": [
    "summary(sim$samples_cmb)"
   ]
  },
  {
   "cell_type": "code",
   "execution_count": null,
   "metadata": {},
   "outputs": [],
   "source": [
    "y_hat = pm_params[1:3][data$grp]\n",
    "resid = data$y - y_hat\n",
    "plot(resid)"
   ]
  },
  {
   "cell_type": "code",
   "execution_count": null,
   "metadata": {},
   "outputs": [],
   "source": [
    "plot(y_hat, resid)"
   ]
  }
 ],
 "metadata": {
  "kernelspec": {
   "display_name": "R",
   "language": "R",
   "name": "ir"
  },
  "language_info": {
   "codemirror_mode": "r",
   "file_extension": ".r",
   "mimetype": "text/x-r-source",
   "name": "R",
   "pygments_lexer": "r",
   "version": "3.3.2"
  }
 },
 "nbformat": 4,
 "nbformat_minor": 2
}
