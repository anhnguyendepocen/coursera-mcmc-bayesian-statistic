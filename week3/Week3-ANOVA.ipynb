{
 "cells": [
  {
   "cell_type": "code",
   "execution_count": 1,
   "metadata": {},
   "outputs": [
    {
     "name": "stderr",
     "output_type": "stream",
     "text": [
      "Loading required package: coda\n",
      "Linked to JAGS 4.1.0\n",
      "Loaded modules: basemod,bugs\n"
     ]
    }
   ],
   "source": [
    "source(\"shared.R\")"
   ]
  },
  {
   "cell_type": "code",
   "execution_count": 3,
   "metadata": {},
   "outputs": [
    {
     "data": {
      "text/html": [
       "<table>\n",
       "<thead><tr><th scope=col>weight</th><th scope=col>group</th></tr></thead>\n",
       "<tbody>\n",
       "\t<tr><td>4.17</td><td>ctrl</td></tr>\n",
       "\t<tr><td>5.58</td><td>ctrl</td></tr>\n",
       "\t<tr><td>5.18</td><td>ctrl</td></tr>\n",
       "\t<tr><td>6.11</td><td>ctrl</td></tr>\n",
       "\t<tr><td>4.50</td><td>ctrl</td></tr>\n",
       "\t<tr><td>4.61</td><td>ctrl</td></tr>\n",
       "</tbody>\n",
       "</table>\n"
      ],
      "text/latex": [
       "\\begin{tabular}{r|ll}\n",
       " weight & group\\\\\n",
       "\\hline\n",
       "\t 4.17 & ctrl\\\\\n",
       "\t 5.58 & ctrl\\\\\n",
       "\t 5.18 & ctrl\\\\\n",
       "\t 6.11 & ctrl\\\\\n",
       "\t 4.50 & ctrl\\\\\n",
       "\t 4.61 & ctrl\\\\\n",
       "\\end{tabular}\n"
      ],
      "text/markdown": [
       "\n",
       "weight | group | \n",
       "|---|---|---|---|---|---|\n",
       "| 4.17 | ctrl | \n",
       "| 5.58 | ctrl | \n",
       "| 5.18 | ctrl | \n",
       "| 6.11 | ctrl | \n",
       "| 4.50 | ctrl | \n",
       "| 4.61 | ctrl | \n",
       "\n",
       "\n"
      ],
      "text/plain": [
       "  weight group\n",
       "1 4.17   ctrl \n",
       "2 5.58   ctrl \n",
       "3 5.18   ctrl \n",
       "4 6.11   ctrl \n",
       "5 4.50   ctrl \n",
       "6 4.61   ctrl "
      ]
     },
     "metadata": {},
     "output_type": "display_data"
    }
   ],
   "source": [
    "data(\"PlantGrowth\")\n",
    "head(PlantGrowth)"
   ]
  },
  {
   "cell_type": "code",
   "execution_count": 4,
   "metadata": {},
   "outputs": [
    {
     "data": {
      "image/png": "[encoded data removed]",
      "text/plain": [
       "Plot with title “PlantGrowth data”"
      ]
     },
     "metadata": {},
     "output_type": "display_data"
    }
   ],
   "source": [
    "boxplot(weight ~ group, data = PlantGrowth, main = \"PlantGrowth data\",\n",
    "        ylab = \"Dried weight of plants\", col = \"lightgray\",\n",
    "        notch = FALSE, varwidth = TRUE)"
   ]
  },
  {
   "cell_type": "code",
   "execution_count": 5,
   "metadata": {},
   "outputs": [
    {
     "data": {
      "text/html": [
       "<table>\n",
       "<thead><tr><th></th><th scope=col>Df</th><th scope=col>Sum Sq</th><th scope=col>Mean Sq</th><th scope=col>F value</th><th scope=col>Pr(&gt;F)</th></tr></thead>\n",
       "<tbody>\n",
       "\t<tr><th scope=row>group</th><td> 2        </td><td> 3.76634  </td><td>1.8831700 </td><td>4.846088  </td><td>0.01590996</td></tr>\n",
       "\t<tr><th scope=row>Residuals</th><td>27        </td><td>10.49209  </td><td>0.3885959 </td><td>      NA  </td><td>        NA</td></tr>\n",
       "</tbody>\n",
       "</table>\n"
      ],
      "text/latex": [
       "\\begin{tabular}{r|lllll}\n",
       "  & Df & Sum Sq & Mean Sq & F value & Pr(>F)\\\\\n",
       "\\hline\n",
       "\tgroup &  2         &  3.76634   & 1.8831700  & 4.846088   & 0.01590996\\\\\n",
       "\tResiduals & 27         & 10.49209   & 0.3885959  &       NA   &         NA\\\\\n",
       "\\end{tabular}\n"
      ],
      "text/markdown": [
       "\n",
       "| <!--/--> | Df | Sum Sq | Mean Sq | F value | Pr(>F) | \n",
       "|---|---|\n",
       "| group |  2         |  3.76634   | 1.8831700  | 4.846088   | 0.01590996 | \n",
       "| Residuals | 27         | 10.49209   | 0.3885959  |       NA   |         NA | \n",
       "\n",
       "\n"
      ],
      "text/plain": [
       "          Df Sum Sq   Mean Sq   F value  Pr(>F)    \n",
       "group      2  3.76634 1.8831700 4.846088 0.01590996\n",
       "Residuals 27 10.49209 0.3885959       NA         NA"
      ]
     },
     "metadata": {},
     "output_type": "display_data"
    }
   ],
   "source": [
    "#?effects\n",
    "#?anova\n",
    "anova(lm(weight ~ group, data = PlantGrowth))"
   ]
  },
  {
   "cell_type": "code",
   "execution_count": 6,
   "metadata": {},
   "outputs": [
    {
     "data": {
      "text/plain": [
       "\n",
       "Call:\n",
       "lm(formula = weight ~ group, data = PlantGrowth)\n",
       "\n",
       "Residuals:\n",
       "    Min      1Q  Median      3Q     Max \n",
       "-1.0710 -0.4180 -0.0060  0.2627  1.3690 \n",
       "\n",
       "Coefficients:\n",
       "            Estimate Std. Error t value Pr(>|t|)    \n",
       "(Intercept)   5.0320     0.1971  25.527   <2e-16 ***\n",
       "grouptrt1    -0.3710     0.2788  -1.331   0.1944    \n",
       "grouptrt2     0.4940     0.2788   1.772   0.0877 .  \n",
       "---\n",
       "Signif. codes:  0 ‘***’ 0.001 ‘**’ 0.01 ‘*’ 0.05 ‘.’ 0.1 ‘ ’ 1\n",
       "\n",
       "Residual standard error: 0.6234 on 27 degrees of freedom\n",
       "Multiple R-squared:  0.2641,\tAdjusted R-squared:  0.2096 \n",
       "F-statistic: 4.846 on 2 and 27 DF,  p-value: 0.01591\n"
      ]
     },
     "metadata": {},
     "output_type": "display_data"
    }
   ],
   "source": [
    "lmod = lm(weight ~ group, data=PlantGrowth)\n",
    "summary(lmod)"
   ]
  },
  {
   "cell_type": "code",
   "execution_count": 14,
   "metadata": {},
   "outputs": [],
   "source": [
    "str_model = \"model {\n",
    "    for (i in 1:length(y)) { \n",
    "        y[i] ~ dnorm(mu[grp[i]], prec)\n",
    "    }\n",
    "    \n",
    "    for (j in 1:3) {\n",
    "        mu[j] ~ dnorm(0, 1./1.e6)\n",
    "    }\n",
    "\n",
    "    # here 5 is the sample size, 1 is the variance\n",
    "    prec ~ dgamma(5/2.0, 5*1/2.0) \n",
    "\n",
    "    sig = sqrt(1./prec)    \n",
    "} \"\n",
    "\n",
    "dat = c()\n",
    "var_names = c(\"mu\", \"sig\")\n",
    "inits = function() {\n",
    "    inits = list(\"mu\" = rnorm(3, 0, 100), \"prec\" = rgamma(1, 1., 1.))\n",
    "}\n",
    "data = list(y=PlantGrowth$weight, grp=as.numeric(PlantGrowth$group))"
   ]
  },
  {
   "cell_type": "code",
   "execution_count": 15,
   "metadata": {},
   "outputs": [
    {
     "name": "stdout",
     "output_type": "stream",
     "text": [
      "Compiling model graph\n",
      "   Resolving undeclared variables\n",
      "   Allocating nodes\n",
      "Graph information:\n",
      "   Observed stochastic nodes: 30\n",
      "   Unobserved stochastic nodes: 4\n",
      "   Total graph size: 85\n",
      "\n",
      "Initializing model\n",
      "\n"
     ]
    }
   ],
   "source": [
    "mod = jags_model_compile(str_model_ = str_model, data_ = data, inits_ = inits, n_chains_ = 3, burnout = 1e5)\n",
    "sim = jags_model_sample(mod_ = mod, n_iter_ = 1e4, var_names_ = var_names)\n",
    "mod_diag = jags_model_diag(samples_ = sim$samples)"
   ]
  },
  {
   "cell_type": "code",
   "execution_count": 9,
   "metadata": {},
   "outputs": [
    {
     "data": {
      "text/plain": [
       "\n",
       "Iterations = 100001:110000\n",
       "Thinning interval = 1 \n",
       "Number of chains = 3 \n",
       "Sample size per chain = 10000 \n",
       "\n",
       "1. Empirical mean and standard deviation for each variable,\n",
       "   plus standard error of the mean:\n",
       "\n",
       "        Mean      SD  Naive SE Time-series SE\n",
       "mu[1] 5.0338 0.22801 0.0013164      0.0013239\n",
       "mu[2] 4.6613 0.22539 0.0013013      0.0013013\n",
       "mu[3] 5.5261 0.22766 0.0013144      0.0013001\n",
       "sig   0.7126 0.09207 0.0005316      0.0005814\n",
       "\n",
       "2. Quantiles for each variable:\n",
       "\n",
       "        2.5%    25%    50%    75%  97.5%\n",
       "mu[1] 4.5847 4.8843 5.0335 5.1835 5.4853\n",
       "mu[2] 4.2197 4.5104 4.6606 4.8118 5.1033\n",
       "mu[3] 5.0785 5.3763 5.5261 5.6760 5.9737\n",
       "sig   0.5594 0.6472 0.7037 0.7675 0.9196\n"
      ]
     },
     "metadata": {},
     "output_type": "display_data"
    }
   ],
   "source": [
    "pm_params = colMeans(sim$samples_cmb)\n",
    "summary(sim$samples)"
   ]
  },
  {
   "cell_type": "code",
   "execution_count": 10,
   "metadata": {},
   "outputs": [
    {
     "data": {
      "text/html": [
       "<table>\n",
       "<thead><tr><th></th><th scope=col>lower</th><th scope=col>upper</th></tr></thead>\n",
       "<tbody>\n",
       "\t<tr><th scope=row>var1</th><td>-0.1611049</td><td>1.105247  </td></tr>\n",
       "</tbody>\n",
       "</table>\n"
      ],
      "text/latex": [
       "\\begin{tabular}{r|ll}\n",
       "  & lower & upper\\\\\n",
       "\\hline\n",
       "\tvar1 & -0.1611049 & 1.105247  \\\\\n",
       "\\end{tabular}\n"
      ],
      "text/markdown": [
       "\n",
       "| <!--/--> | lower | upper | \n",
       "|---|\n",
       "| var1 | -0.1611049 | 1.105247   | \n",
       "\n",
       "\n"
      ],
      "text/plain": [
       "     lower      upper   \n",
       "var1 -0.1611049 1.105247"
      ]
     },
     "metadata": {},
     "output_type": "display_data"
    }
   ],
   "source": [
    "HPDinterval(sim$samples_cmb[,3] - sim$samples_cmb[,1])"
   ]
  },
  {
   "cell_type": "code",
   "execution_count": 53,
   "metadata": {},
   "outputs": [
    {
     "data": {
      "text/html": [
       "<table>\n",
       "<thead><tr><th></th><th scope=col>lower</th><th scope=col>upper</th></tr></thead>\n",
       "<tbody>\n",
       "\t<tr><th scope=row>mu[1]</th><td>4.651401 </td><td>5.3884966</td></tr>\n",
       "\t<tr><th scope=row>mu[2]</th><td>4.283159 </td><td>5.0190971</td></tr>\n",
       "\t<tr><th scope=row>mu[3]</th><td>5.154535 </td><td>5.9052546</td></tr>\n",
       "\t<tr><th scope=row>sig</th><td>0.566241 </td><td>0.8582024</td></tr>\n",
       "</tbody>\n",
       "</table>\n"
      ],
      "text/latex": [
       "\\begin{tabular}{r|ll}\n",
       "  & lower & upper\\\\\n",
       "\\hline\n",
       "\tmu{[}1{]} & 4.651401  & 5.3884966\\\\\n",
       "\tmu{[}2{]} & 4.283159  & 5.0190971\\\\\n",
       "\tmu{[}3{]} & 5.154535  & 5.9052546\\\\\n",
       "\tsig & 0.566241  & 0.8582024\\\\\n",
       "\\end{tabular}\n"
      ],
      "text/markdown": [
       "\n",
       "| <!--/--> | lower | upper | \n",
       "|---|---|---|---|\n",
       "| mu[1] | 4.651401  | 5.3884966 | \n",
       "| mu[2] | 4.283159  | 5.0190971 | \n",
       "| mu[3] | 5.154535  | 5.9052546 | \n",
       "| sig | 0.566241  | 0.8582024 | \n",
       "\n",
       "\n"
      ],
      "text/plain": [
       "      lower    upper    \n",
       "mu[1] 4.651401 5.3884966\n",
       "mu[2] 4.283159 5.0190971\n",
       "mu[3] 5.154535 5.9052546\n",
       "sig   0.566241 0.8582024"
      ]
     },
     "metadata": {},
     "output_type": "display_data"
    }
   ],
   "source": [
    "HPDinterval(sim$samples_cmb, prob = 0.9)"
   ]
  },
  {
   "cell_type": "code",
   "execution_count": 11,
   "metadata": {},
   "outputs": [
    {
     "data": {
      "text/plain": [
       "\n",
       "Call:\n",
       "lm(formula = weight ~ -1 + group, data = PlantGrowth)\n",
       "\n",
       "Residuals:\n",
       "    Min      1Q  Median      3Q     Max \n",
       "-1.0710 -0.4180 -0.0060  0.2627  1.3690 \n",
       "\n",
       "Coefficients:\n",
       "          Estimate Std. Error t value Pr(>|t|)    \n",
       "groupctrl   5.0320     0.1971   25.53   <2e-16 ***\n",
       "grouptrt1   4.6610     0.1971   23.64   <2e-16 ***\n",
       "grouptrt2   5.5260     0.1971   28.03   <2e-16 ***\n",
       "---\n",
       "Signif. codes:  0 ‘***’ 0.001 ‘**’ 0.01 ‘*’ 0.05 ‘.’ 0.1 ‘ ’ 1\n",
       "\n",
       "Residual standard error: 0.6234 on 27 degrees of freedom\n",
       "Multiple R-squared:  0.9867,\tAdjusted R-squared:  0.9852 \n",
       "F-statistic: 665.5 on 3 and 27 DF,  p-value: < 2.2e-16\n"
      ]
     },
     "metadata": {},
     "output_type": "display_data"
    }
   ],
   "source": [
    "mod_cm = lm(weight ~ -1 + group, data=PlantGrowth)\n",
    "summary(mod_cm)"
   ]
  },
  {
   "cell_type": "code",
   "execution_count": 19,
   "metadata": {},
   "outputs": [
    {
     "data": {
      "text/html": [
       "<table>\n",
       "<thead><tr><th></th><th scope=col>lower</th><th scope=col>upper</th></tr></thead>\n",
       "<tbody>\n",
       "\t<tr><th scope=row>mu[1]</th><td>4.6164637</td><td>5.4623890</td></tr>\n",
       "\t<tr><th scope=row>mu[2]</th><td>4.1774673</td><td>5.1480443</td></tr>\n",
       "\t<tr><th scope=row>mu[3]</th><td>5.1350603</td><td>5.9123839</td></tr>\n",
       "\t<tr><th scope=row>sig[1]</th><td>0.5410625</td><td>1.0402909</td></tr>\n",
       "\t<tr><th scope=row>sig[2]</th><td>0.6331949</td><td>1.2095278</td></tr>\n",
       "\t<tr><th scope=row>sig[3]</th><td>0.5084932</td><td>0.9672212</td></tr>\n",
       "</tbody>\n",
       "</table>\n"
      ],
      "text/latex": [
       "\\begin{tabular}{r|ll}\n",
       "  & lower & upper\\\\\n",
       "\\hline\n",
       "\tmu{[}1{]} & 4.6164637 & 5.4623890\\\\\n",
       "\tmu{[}2{]} & 4.1774673 & 5.1480443\\\\\n",
       "\tmu{[}3{]} & 5.1350603 & 5.9123839\\\\\n",
       "\tsig{[}1{]} & 0.5410625 & 1.0402909\\\\\n",
       "\tsig{[}2{]} & 0.6331949 & 1.2095278\\\\\n",
       "\tsig{[}3{]} & 0.5084932 & 0.9672212\\\\\n",
       "\\end{tabular}\n"
      ],
      "text/markdown": [
       "\n",
       "| <!--/--> | lower | upper | \n",
       "|---|---|---|---|---|---|\n",
       "| mu[1] | 4.6164637 | 5.4623890 | \n",
       "| mu[2] | 4.1774673 | 5.1480443 | \n",
       "| mu[3] | 5.1350603 | 5.9123839 | \n",
       "| sig[1] | 0.5410625 | 1.0402909 | \n",
       "| sig[2] | 0.6331949 | 1.2095278 | \n",
       "| sig[3] | 0.5084932 | 0.9672212 | \n",
       "\n",
       "\n"
      ],
      "text/plain": [
       "       lower     upper    \n",
       "mu[1]  4.6164637 5.4623890\n",
       "mu[2]  4.1774673 5.1480443\n",
       "mu[3]  5.1350603 5.9123839\n",
       "sig[1] 0.5410625 1.0402909\n",
       "sig[2] 0.6331949 1.2095278\n",
       "sig[3] 0.5084932 0.9672212"
      ]
     },
     "metadata": {},
     "output_type": "display_data"
    }
   ],
   "source": [
    "HPDinterval(sim$samples_cmb, prob = 0.9)"
   ]
  },
  {
   "cell_type": "markdown",
   "metadata": {},
   "source": [
    "## Fitting model with varied variance for each group"
   ]
  },
  {
   "cell_type": "code",
   "execution_count": 12,
   "metadata": {},
   "outputs": [],
   "source": [
    "model_varied_var = \"model {\n",
    "    for (i in 1:length(y)) { \n",
    "        y[i] ~ dnorm(mu[grp[i]], prec[grp[i]])\n",
    "    }    \n",
    "    for (j in 1:3) {\n",
    "        mu[j] ~ dnorm(0, 1./1.e6)\n",
    "        prec[j] ~ dgamma(5/2.0, 5*1/2.0) \n",
    "        sig[j] = sqrt(1./prec[j])\n",
    "    }    \n",
    "} \"\n",
    "\n",
    "\n",
    "var_names = c(\"mu\", \"sig\")\n",
    "inits = function() {\n",
    "    inits = list(\"mu\" = rnorm(3, 0, 100), \"prec\" = rgamma(3, 1., 1.))\n",
    "}\n",
    "data = list(y=PlantGrowth$weight, grp=as.numeric(PlantGrowth$group))"
   ]
  },
  {
   "cell_type": "code",
   "execution_count": 13,
   "metadata": {},
   "outputs": [
    {
     "name": "stdout",
     "output_type": "stream",
     "text": [
      "Compiling model graph\n",
      "   Resolving undeclared variables\n",
      "   Allocating nodes\n",
      "Graph information:\n",
      "   Observed stochastic nodes: 30\n",
      "   Unobserved stochastic nodes: 6\n",
      "   Total graph size: 105\n",
      "\n",
      "Initializing model\n",
      "\n"
     ]
    }
   ],
   "source": [
    "jmod_varied_var = jags_model_compile(model_varied_var, data, inits)\n",
    "sim2 = jags_model_sample(jmod_varied_var, n_iter_ = 1e4, var_names_ = var_names)"
   ]
  },
  {
   "cell_type": "code",
   "execution_count": 18,
   "metadata": {},
   "outputs": [
    {
     "data": {
      "text/plain": [
       "Difference: -3.861668\n",
       "Sample standard error: 1.637241"
      ]
     },
     "metadata": {},
     "output_type": "display_data"
    }
   ],
   "source": [
    "dic.samples(mod, n.iter=1e5) - dic.samples(jmod_varied_var, n.iter=1e5)"
   ]
  },
  {
   "cell_type": "code",
   "execution_count": 22,
   "metadata": {},
   "outputs": [],
   "source": [
    "d1 = dic.samples(model = jmod_varied_var, n.iter = 1e4)"
   ]
  },
  {
   "cell_type": "code",
   "execution_count": 23,
   "metadata": {},
   "outputs": [],
   "source": [
    "dics = list(\"m1\" = dic.samples(model = jmod_varied_var, n.iter = 1e4),  \"m2\" = dic.samples(model = mod, n.iter = 1e4))"
   ]
  },
  {
   "cell_type": "code",
   "execution_count": 36,
   "metadata": {},
   "outputs": [],
   "source": [
    "a = dic.samples(model = jmod_varied_var, n.iter = 1e4)"
   ]
  },
  {
   "cell_type": "code",
   "execution_count": 18,
   "metadata": {},
   "outputs": [
    {
     "data": {
      "text/plain": [
       "\n",
       "Iterations = 1:30000\n",
       "Thinning interval = 1 \n",
       "Number of chains = 1 \n",
       "Sample size per chain = 30000 \n",
       "\n",
       "1. Empirical mean and standard deviation for each variable,\n",
       "   plus standard error of the mean:\n",
       "\n",
       "         Mean     SD  Naive SE Time-series SE\n",
       "mu[1]  5.0324 0.2574 0.0014862      0.0015007\n",
       "mu[2]  4.6586 0.2980 0.0017203      0.0017203\n",
       "mu[3]  5.5257 0.2385 0.0013772      0.0013772\n",
       "sig[1] 0.8034 0.1651 0.0009534      0.0010126\n",
       "sig[2] 0.9240 0.1915 0.0011054      0.0011959\n",
       "sig[3] 0.7361 0.1520 0.0008775      0.0009492\n",
       "\n",
       "2. Quantiles for each variable:\n",
       "\n",
       "         2.5%    25%    50%    75% 97.5%\n",
       "mu[1]  4.5178 4.8667 5.0325 5.1974 5.546\n",
       "mu[2]  4.0636 4.4684 4.6616 4.8498 5.253\n",
       "mu[3]  5.0536 5.3736 5.5249 5.6791 5.998\n",
       "sig[1] 0.5548 0.6869 0.7793 0.8913 1.192\n",
       "sig[2] 0.6370 0.7897 0.8940 1.0264 1.384\n",
       "sig[3] 0.5087 0.6289 0.7128 0.8171 1.100\n"
      ]
     },
     "metadata": {},
     "output_type": "display_data"
    }
   ],
   "source": [
    "summary(sim$samples_cmb)"
   ]
  },
  {
   "cell_type": "code",
   "execution_count": 73,
   "metadata": {},
   "outputs": [
    {
     "data": {
      "image/png": "[encoded data removed]",
      "text/plain": [
       "plot without title"
      ]
     },
     "metadata": {},
     "output_type": "display_data"
    }
   ],
   "source": [
    "y_hat = pm_params[1:3][data$grp]\n",
    "resid = data$y - y_hat\n",
    "plot(resid)"
   ]
  },
  {
   "cell_type": "code",
   "execution_count": 75,
   "metadata": {},
   "outputs": [
    {
     "data": {
      "image/png": "[encoded data removed]",
      "text/plain": [
       "plot without title"
      ]
     },
     "metadata": {},
     "output_type": "display_data"
    }
   ],
   "source": [
    "plot(y_hat, resid)"
   ]
  }
 ],
 "metadata": {
  "kernelspec": {
   "display_name": "R",
   "language": "R",
   "name": "ir"
  },
  "language_info": {
   "codemirror_mode": "r",
   "file_extension": ".r",
   "mimetype": "text/x-r-source",
   "name": "R",
   "pygments_lexer": "r",
   "version": "3.3.2"
  }
 },
 "nbformat": 4,
 "nbformat_minor": 2
}
