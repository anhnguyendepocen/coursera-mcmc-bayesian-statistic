{
 "cells": [
  {
   "cell_type": "code",
   "execution_count": null,
   "metadata": {},
   "outputs": [],
   "source": [
    "library(\"car\")\n",
    "data(\"Leinhardt\")\n",
    "head(Leinhardt)"
   ]
  },
  {
   "cell_type": "code",
   "execution_count": null,
   "metadata": {},
   "outputs": [],
   "source": [
    "pairs(Leinhardt)"
   ]
  },
  {
   "cell_type": "code",
   "execution_count": null,
   "metadata": {},
   "outputs": [],
   "source": [
    "plot(infant ~ income, data = Leinhardt)"
   ]
  },
  {
   "cell_type": "code",
   "execution_count": null,
   "metadata": {},
   "outputs": [],
   "source": [
    "Leinhardt$loginfant = log(Leinhardt$infant)\n",
    "Leinhardt$logincome = log(Leinhardt$income)\n",
    "plot(loginfant ~ logincome, data = Leinhardt)"
   ]
  },
  {
   "cell_type": "code",
   "execution_count": null,
   "metadata": {},
   "outputs": [],
   "source": [
    "lmod = lm(loginfant ~ logincome, data = Leinhardt)\n",
    "summary(lmod)"
   ]
  },
  {
   "cell_type": "code",
   "execution_count": null,
   "metadata": {},
   "outputs": [],
   "source": [
    "dat = na.omit(Leinhardt)\n",
    "library(\"rjags\")"
   ]
  },
  {
   "cell_type": "code",
   "execution_count": null,
   "metadata": {},
   "outputs": [],
   "source": [
    "mod1_str = \"model {\n",
    "    for (i in 1: n) {\n",
    "        y[i] ~ dnorm(mu[i], prec)\n",
    "        mu[i] = b[1] + b[2] * log_income[i]        \n",
    "    }\n",
    "    \n",
    "    for (i in 1:2) {\n",
    "        b[i] ~ dnorm(0.0, 1./1.e6)        \n",
    "    }\n",
    "    \n",
    "    prec ~ dgamma(5/2.0, 5*10/2.0)\n",
    "    sig2 = 1 / prec\n",
    "    sig = sqrt(sig2)\n",
    "}\"\n",
    "\n",
    "set.seed(42)\n",
    "data1_jags = list(y=dat$loginfant, n=nrow(dat), log_income=dat$logincome)\n",
    "params1 = c(\"b\", \"sig\")\n",
    "\n",
    "inits1 = function() { \n",
    "    inits = list(\"b\" = rnorm(2, 0.0, 100.), \"prec\"=rgamma(1, 1.0, 1.0))\n",
    "}\n",
    "\n",
    "mod1 = jags.model(textConnection(mod1_str), data = data1_jags, inits = inits1, n.chains = 3)\n",
    "update(mod1, 1000) # burn in\n",
    "\n",
    "mod1_sim = coda.samples(model = mod1, variable.names = params1, n.iter = 5000)\n",
    "mod1_csim = do.call(rbind, mod1_sim)"
   ]
  },
  {
   "cell_type": "code",
   "execution_count": null,
   "metadata": {},
   "outputs": [],
   "source": [
    "plot(mod1_sim)"
   ]
  },
  {
   "cell_type": "code",
   "execution_count": null,
   "metadata": {},
   "outputs": [],
   "source": [
    "autocorr.plot(mod1_sim)"
   ]
  },
  {
   "cell_type": "code",
   "execution_count": null,
   "metadata": {},
   "outputs": [],
   "source": [
    "effectiveSize(mod1_sim)"
   ]
  },
  {
   "cell_type": "markdown",
   "metadata": {},
   "source": [
    "## Residuals checks"
   ]
  },
  {
   "cell_type": "code",
   "execution_count": null,
   "metadata": {},
   "outputs": [],
   "source": [
    "lmod0 = lm(infant ~ income, data=Leinhardt)\n",
    "plot(resid(lmod0)) # to check independence (looks okay"
   ]
  },
  {
   "cell_type": "code",
   "execution_count": null,
   "metadata": {},
   "outputs": [],
   "source": [
    "plot(predict(lmod0), resid(lmod0)) # to check for linearity, constant variance (looks bad)"
   ]
  },
  {
   "cell_type": "code",
   "execution_count": null,
   "metadata": {},
   "outputs": [],
   "source": [
    "qqnorm(resid(lmod0)) # to check Normality assumption (we want this to be a straight line)"
   ]
  },
  {
   "cell_type": "markdown",
   "metadata": {},
   "source": [
    "## Bayesian residuals"
   ]
  },
  {
   "cell_type": "code",
   "execution_count": null,
   "metadata": {},
   "outputs": [],
   "source": [
    "X = cbind(rep(1.0, data1_jags$n), data1_jags$log_income)\n",
    "head(X)"
   ]
  },
  {
   "cell_type": "code",
   "execution_count": null,
   "metadata": {},
   "outputs": [],
   "source": [
    "pm_params1 = colMeans(mod1_csim)"
   ]
  },
  {
   "cell_type": "code",
   "execution_count": null,
   "metadata": {},
   "outputs": [],
   "source": [
    "yhat1 = drop(X %*% pm_params1[1:2]) # drop makes an array\n",
    "resid1 = data1_jags$y - yhat1\n",
    "plot(resid1)"
   ]
  },
  {
   "cell_type": "code",
   "execution_count": null,
   "metadata": {},
   "outputs": [],
   "source": [
    "plot(yhat1, resid1)"
   ]
  },
  {
   "cell_type": "code",
   "execution_count": null,
   "metadata": {},
   "outputs": [],
   "source": [
    "qqnorm(resid1)"
   ]
  },
  {
   "cell_type": "code",
   "execution_count": null,
   "metadata": {},
   "outputs": [],
   "source": [
    "plot(predict(lmod), resid(lmod))"
   ]
  },
  {
   "cell_type": "markdown",
   "metadata": {},
   "source": [
    "## Adding additional covariates"
   ]
  },
  {
   "cell_type": "code",
   "execution_count": null,
   "metadata": {},
   "outputs": [],
   "source": [
    "library(\"rjags\")\n",
    "\n",
    "mod2_string = \" model {\n",
    "    for (i in 1:length(y)) {\n",
    "        y[i] ~ dnorm(mu[i], prec)\n",
    "        mu[i] = b[1] + b[2]*log_income[i] + b[3]*is_oil[i]\n",
    "    }\n",
    "    \n",
    "    for (i in 1:3) {\n",
    "        b[i] ~ dnorm(0.0, 1.0/1.0e6)\n",
    "    }\n",
    "    \n",
    "    prec ~ dgamma(5/2.0, 5*10.0/2.0)\n",
    "    sig = sqrt( 1.0 / prec )\n",
    "} \"\n",
    "\n",
    "\n",
    "set.seed(73)\n",
    "data2_jags = list(y=dat$loginfant, log_income=dat$logincome,\n",
    "                  is_oil=as.numeric(dat$oil==\"yes\"))\n",
    "data2_jags$is_oil\n",
    "\n",
    "params2 = c(\"b\", \"sig\")\n",
    "\n",
    "inits2 = function() {\n",
    "    inits = list(\"b\"=rnorm(3,0.0,100.0), \"prec\"=rgamma(1,1.0,1.0))\n",
    "}\n",
    "\n",
    "mod2 = jags.model(textConnection(mod2_string), data=data2_jags, inits=inits2, n.chains=3)\n",
    "update(mod2, 1e3) # burn-in\n",
    "\n",
    "mod2_sim = coda.samples(model=mod2,\n",
    "                        variable.names=params2,\n",
    "                        n.iter=5e3)\n",
    "\n",
    "mod2_csim = as.mcmc(do.call(rbind, mod2_sim)) # combine multiple chains"
   ]
  },
  {
   "cell_type": "code",
   "execution_count": null,
   "metadata": {},
   "outputs": [],
   "source": [
    "plot(mod2_sim)"
   ]
  },
  {
   "cell_type": "code",
   "execution_count": null,
   "metadata": {},
   "outputs": [],
   "source": [
    "X2 = cbind(rep(1.0, data1_jags$n), data2_jags$log_income, data2_jags$is_oil)\n",
    "head(X2)"
   ]
  },
  {
   "cell_type": "code",
   "execution_count": null,
   "metadata": {},
   "outputs": [],
   "source": [
    "(pm_params2 = colMeans(mod2_csim)) # posterior mean"
   ]
  },
  {
   "cell_type": "code",
   "execution_count": null,
   "metadata": {},
   "outputs": [],
   "source": [
    "yhat2 = drop(X2 %*% pm_params2[1:3])\n",
    "resid2 = data2_jags$y - yhat2\n",
    "plot(resid2) # against data index"
   ]
  },
  {
   "cell_type": "code",
   "execution_count": null,
   "metadata": {},
   "outputs": [],
   "source": [
    "plot(yhat2, resid2) # against predicted values\n"
   ]
  },
  {
   "cell_type": "markdown",
   "metadata": {},
   "source": [
    "## t-distribution"
   ]
  },
  {
   "cell_type": "code",
   "execution_count": null,
   "metadata": {},
   "outputs": [],
   "source": [
    "mod3_string = \" model {\n",
    "    for (i in 1:length(y)) {\n",
    "        y[i] ~ dt( mu[i], tau, df )\n",
    "        mu[i] = b[1] + b[2]*log_income[i] + b[3]*is_oil[i]\n",
    "    }\n",
    "    \n",
    "    for (i in 1:3) {\n",
    "        b[i] ~ dnorm(0.0, 1.0/1.0e6)\n",
    "    }\n",
    "    \n",
    "    nu ~ dexp(1.0)    \n",
    "    df = nu + 2.0 # we want degrees of freedom > 2 to guarantee existence of mean and variance\n",
    "    tau ~ dgamma(5/2.0, 5*10.0/2.0) # tau is close to, but not equal to the precision\n",
    "    sig = sqrt( 1.0 / tau * df / (df - 2.0) ) # standard deviation of errors\n",
    "} \"\n",
    "\n",
    "set.seed(73)\n",
    "data3_jags = list(y=dat$loginfant, log_income=dat$logincome,\n",
    "                  is_oil=as.numeric(dat$oil==\"yes\"))\n",
    "\n",
    "params3 = c(\"b\")\n",
    "\n",
    "inits3 = function() {\n",
    "    inits = list(\"b\"=rnorm(3,0.0,100.0))\n",
    "}\n",
    "\n",
    "mod3 = jags.model(textConnection(mod3_string), data=data3_jags, inits=inits3, n.chains=3)\n",
    "update(mod3, 1e3) # burn-in\n",
    "\n",
    "mod3_sim = coda.samples(model=mod3,\n",
    "                        variable.names=params3,\n",
    "                        n.iter=5e3)\n",
    "\n",
    "mod3_csim = as.mcmc(do.call(rbind, mod3_sim)) # combine multiple chains"
   ]
  },
  {
   "cell_type": "code",
   "execution_count": null,
   "metadata": {},
   "outputs": [],
   "source": [
    "plot(mod3_csim)\n",
    "\n",
    "summary(mod2_sim)\n",
    "\n",
    "gelman.diag(mod3_sim)"
   ]
  },
  {
   "cell_type": "code",
   "execution_count": null,
   "metadata": {},
   "outputs": [],
   "source": [
    "X3 = cbind(rep(1.0, data1_jags$n), data2_jags$log_income, data2_jags$is_oil)\n",
    "head(X3)"
   ]
  },
  {
   "cell_type": "code",
   "execution_count": null,
   "metadata": {},
   "outputs": [],
   "source": [
    "pm_params3 = colMeans(mod3_csim)\n",
    "pm_params3"
   ]
  },
  {
   "cell_type": "code",
   "execution_count": null,
   "metadata": {},
   "outputs": [],
   "source": [
    "yhat3 = X3 %*% pm_params3\n",
    "resid3 = data3_jags$y - yhat3"
   ]
  },
  {
   "cell_type": "code",
   "execution_count": null,
   "metadata": {},
   "outputs": [],
   "source": [
    "plot(resid3)"
   ]
  },
  {
   "cell_type": "code",
   "execution_count": null,
   "metadata": {},
   "outputs": [],
   "source": [
    "dic.samples(mod1,n.iter = 1e3)"
   ]
  },
  {
   "cell_type": "code",
   "execution_count": null,
   "metadata": {},
   "outputs": [],
   "source": [
    "dic.samples(mod2,n.iter = 1e3)"
   ]
  },
  {
   "cell_type": "code",
   "execution_count": null,
   "metadata": {},
   "outputs": [],
   "source": [
    "dic.samples(mod3,n.iter = 1e3)"
   ]
  },
  {
   "cell_type": "markdown",
   "metadata": {},
   "source": [
    "## Assignments"
   ]
  },
  {
   "cell_type": "code",
   "execution_count": null,
   "metadata": {},
   "outputs": [],
   "source": [
    "library(\"car\")  # load the 'car' package\n",
    "data(\"Anscombe\")  # load the data set\n",
    "?Anscombe  # read a description of the data\n",
    "head(Anscombe) \n",
    "pairs(Anscombe)"
   ]
  },
  {
   "cell_type": "code",
   "execution_count": null,
   "metadata": {},
   "outputs": [],
   "source": [
    "lmod = lm(education ~ income + young + urban,data = Anscombe)\n",
    "summary(lmod)"
   ]
  },
  {
   "cell_type": "code",
   "execution_count": null,
   "metadata": {},
   "outputs": [],
   "source": [
    "plot(lmod)d"
   ]
  },
  {
   "cell_type": "code",
   "execution_count": null,
   "metadata": {},
   "outputs": [],
   "source": [
    "library(\"rjags\")\n",
    "\n",
    "mod_string = \" model {\n",
    "    for (i in 1:length(education)) {\n",
    "        education[i] ~ dnorm(mu[i], prec)\n",
    "        mu[i] = b0 + b[1]*income[i] + b[2]*young[i] + b[3]*urban[i]\n",
    "    }\n",
    "    \n",
    "    b0 ~ dnorm(0.0, 1.0/1.0e6)\n",
    "    for (i in 1:3) {\n",
    "        b[i] ~ dnorm(0.0, 1.0/1.0e6)\n",
    "    }\n",
    "    \n",
    "    prec ~ dgamma(1.0/2.0, 1.0*1500.0/2.0)\n",
    "    ## Initial guess of variance based on overall\n",
    "    ## variance of education variable. Uses low prior\n",
    "    ## effective sample size. Technically, this is not\n",
    "    ## a true 'prior', but it is not very informative.\n",
    "    sig2 = 1.0 / prec\n",
    "    sig = sqrt(sig2)\n",
    "} \"\n",
    "\n",
    "data_jags = as.list(Anscombe)\n",
    "\n",
    "params = c(\"b\") # define model params to estimate \n",
    "\n",
    "inits = function() { # inits to get function \n",
    "    inits = list(\"b\"=rnorm(3,0.0, 100.0))\n",
    "}\n",
    "\n",
    "mod = jags.model(textConnection(mod_string), data=data_jags, inits=inits, n.chains=3)\n",
    "update(mod, 1e4) # burn-in\n",
    "mod_sim = coda.samples(model=mod,variable.names=params,n.iter=1e5)\n",
    "mod_csim = as.mcmc(do.call(rbind, mod_sim)) # combine multiple chains\n",
    "dic.samples(mod, n.iter = 1e5)"
   ]
  },
  {
   "cell_type": "code",
   "execution_count": null,
   "metadata": {},
   "outputs": [],
   "source": [
    "plot(mod_sim)"
   ]
  },
  {
   "cell_type": "code",
   "execution_count": null,
   "metadata": {},
   "outputs": [],
   "source": [
    "mod_csim['b']"
   ]
  },
  {
   "cell_type": "code",
   "execution_count": null,
   "metadata": {},
   "outputs": [],
   "source": [
    "typeof(mod_csim)"
   ]
  },
  {
   "cell_type": "code",
   "execution_count": null,
   "metadata": {},
   "outputs": [],
   "source": [
    "colMeans(mod_csim)"
   ]
  },
  {
   "cell_type": "code",
   "execution_count": null,
   "metadata": {},
   "outputs": [],
   "source": []
  },
  {
   "cell_type": "code",
   "execution_count": null,
   "metadata": {},
   "outputs": [],
   "source": [
    "mean(mod_sim[ ,3] > 0)"
   ]
  },
  {
   "cell_type": "code",
   "execution_count": null,
   "metadata": {},
   "outputs": [],
   "source": [
    "library(\"rjags\")\n",
    "\n",
    "mod1_string = \" model {\n",
    "    for (i in 1:length(education)) {\n",
    "        education[i] ~ dnorm(mu[i], prec)\n",
    "        mu[i] = b0 + b[1]*income[i] + b[2]*young[i]\n",
    "    }\n",
    "    \n",
    "    b0 ~ dnorm(0.0, 1.0/1.0e6)\n",
    "    for (i in 1:2) {\n",
    "        b[i] ~ dnorm(0.0, 1.0/1.0e6)\n",
    "    }\n",
    "    \n",
    "    prec ~ dgamma(1.0/2.0, 1.0*1500.0/2.0)\n",
    "    ## Initial guess of variance based on overall\n",
    "    ## variance of education variable. Uses low prior\n",
    "    ## effective sample size. Technically, this is not\n",
    "    ## a true 'prior', but it is not very informative.\n",
    "    sig2 = 1.0 / prec\n",
    "    sig = sqrt(sig2)\n",
    "} \"\n",
    "\n",
    "data_jags = as.list(Anscombe)\n",
    "\n",
    "params = c(\"b\") # define model params to estimate \n",
    "\n",
    "inits = function() { # inits to get function \n",
    "    inits = list(\"b\"=rnorm(2,0.0, 100.0))\n",
    "}\n",
    "\n",
    "mod1 = jags.model(textConnection(mod1_string), data=data_jags, inits=inits, n.chains=3)\n",
    "update(mod1, 1e4) # burn-in\n",
    "dic.samples(mod1, n.iter = 1e5)\n",
    "#mod1_sim = coda.samples(model=mod1,variable.names=params,n.iter=1e5)\n",
    "#mod1_csim = as.mcmc(do.call(rbind, mod2_sim)) # combine multiple chains"
   ]
  },
  {
   "cell_type": "code",
   "execution_count": null,
   "metadata": {},
   "outputs": [],
   "source": [
    "library(\"rjags\")\n",
    "\n",
    "mod2_string = \" model {\n",
    "    for (i in 1:length(education)) {\n",
    "        education[i] ~ dnorm(mu[i], prec)\n",
    "        mu[i] = b0 + b[1]*income[i] + b[2]*young[i] + b[3]*income[i]*young[i]\n",
    "    }\n",
    "    \n",
    "    b0 ~ dnorm(0.0, 1.0/1.0e6)\n",
    "    for (i in 1:3) {\n",
    "        b[i] ~ dnorm(0.0, 1.0/1.0e6)\n",
    "    }\n",
    "    \n",
    "    prec ~ dgamma(1.0/2.0, 1.0*1500.0/2.0)\n",
    "    ## Initial guess of variance based on overall\n",
    "    ## variance of education variable. Uses low prior\n",
    "    ## effective sample size. Technically, this is not\n",
    "    ## a true 'prior', but it is not very informative.\n",
    "    sig2 = 1.0 / prec\n",
    "    sig = sqrt(sig2)\n",
    "} \"\n",
    "\n",
    "data_jags = as.list(Anscombe)\n",
    "\n",
    "params = c(\"b\") # define model params to estimate \n",
    "\n",
    "inits = function() { # inits to get function \n",
    "    inits = list(\"b\"=rnorm(3,0.0, 100.0))\n",
    "}\n",
    "\n",
    "mod2 = jags.model(textConnection(mod2_string), data=data_jags, inits=inits, n.chains=3)\n",
    "update(mod2, 1e4) # burn-in\n",
    "dic.samples(mod2, n.iter = 1e5)\n",
    "#mod1_sim = coda.samples(model=mod1,variable.names=params,n.iter=1e5)\n",
    "#mod1_csim = as.mcmc(do.call(rbind, mod2_sim)) # combine multiple chains"
   ]
  },
  {
   "cell_type": "code",
   "execution_count": null,
   "metadata": {},
   "outputs": [],
   "source": [
    "plot(mod_sim)"
   ]
  }
 ],
 "metadata": {
  "kernelspec": {
   "display_name": "R",
   "language": "R",
   "name": "ir"
  },
  "language_info": {
   "codemirror_mode": "r",
   "file_extension": ".r",
   "mimetype": "text/x-r-source",
   "name": "R",
   "pygments_lexer": "r",
   "version": "3.3.2"
  }
 },
 "nbformat": 4,
 "nbformat_minor": 2
}
