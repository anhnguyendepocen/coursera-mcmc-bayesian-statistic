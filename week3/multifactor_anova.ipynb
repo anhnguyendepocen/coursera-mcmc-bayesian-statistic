{
 "cells": [
  {
   "cell_type": "code",
   "execution_count": null,
   "metadata": {},
   "outputs": [],
   "source": [
    "source(\"../shared.R\")"
   ]
  },
  {
   "cell_type": "code",
   "execution_count": null,
   "metadata": {},
   "outputs": [],
   "source": [
    "data(\"warpbreaks\")"
   ]
  },
  {
   "cell_type": "code",
   "execution_count": null,
   "metadata": {},
   "outputs": [],
   "source": [
    "?warpbreaks"
   ]
  },
  {
   "cell_type": "code",
   "execution_count": null,
   "metadata": {},
   "outputs": [],
   "source": [
    "head(warpbreaks)"
   ]
  },
  {
   "cell_type": "code",
   "execution_count": null,
   "metadata": {},
   "outputs": [],
   "source": [
    "table(warpbreaks$wool, warpbreaks$tension)"
   ]
  },
  {
   "cell_type": "code",
   "execution_count": null,
   "metadata": {},
   "outputs": [],
   "source": [
    "boxplot(log(breaks) ~ wool + tension, data = warpbreaks)"
   ]
  },
  {
   "cell_type": "markdown",
   "metadata": {},
   "source": [
    "Different groups have mor similar simulation if we use $log(.)$ of the breaks. And we use it."
   ]
  },
  {
   "cell_type": "markdown",
   "metadata": {},
   "source": [
    "## One way model, where groups are split as tension"
   ]
  },
  {
   "cell_type": "code",
   "execution_count": null,
   "metadata": {},
   "outputs": [],
   "source": [
    "str(warpbreaks)"
   ]
  },
  {
   "cell_type": "code",
   "execution_count": null,
   "metadata": {},
   "outputs": [],
   "source": [
    "smod = \"model {\n",
    "    for (i in 1: length(y)) {\n",
    "        y[i] ~ dnorm(mu[tens_grp[i]], prec)\n",
    "    }\n",
    "    \n",
    "    for (j in 1:3) {\n",
    "        mu[j] ~ dnorm(0, 1./1e6) # low informative prior\n",
    "    }\n",
    "    \n",
    "    prec ~ dgamma(5/2.0, 5*2/2.0) # 5 - sample size, 2 variation\n",
    "    sig = sqrt(1./prec)  \n",
    "}\"\n",
    "\n",
    "set.seed(83)"
   ]
  },
  {
   "cell_type": "code",
   "execution_count": null,
   "metadata": {},
   "outputs": [],
   "source": [
    "data_ =  list(y = log(warpbreaks$breaks), tens_grp = as.numeric(warpbreaks$tension))\n",
    "mod = jags_model_compile(str_model_ = smod, data_ = data_, n_chains_ = 3, burnout = 1e3)\n",
    "mod_sim = jags_model_sample(mod, var_names_ = c(\"mu\", \"sig\"), n_iter_ = 1e4)\n",
    "mod_diag = jags_model_diag(mod_sim$samples)"
   ]
  },
  {
   "cell_type": "code",
   "execution_count": null,
   "metadata": {},
   "outputs": [],
   "source": [
    "plot(mod_sim$samples)"
   ]
  },
  {
   "cell_type": "code",
   "execution_count": null,
   "metadata": {},
   "outputs": [],
   "source": [
    "dic1 = dic.samples(model = mod, n.iter = 1e4)"
   ]
  },
  {
   "cell_type": "markdown",
   "metadata": {},
   "source": [
    "#### From the simulation we get the same results as we get them for just averaging them out\n",
    "\n",
    "that is an expected behaviour"
   ]
  },
  {
   "cell_type": "code",
   "execution_count": null,
   "metadata": {},
   "outputs": [],
   "source": [
    "aggregate(log(warpbreaks$breaks), list(warpbreaks$tension), mean)"
   ]
  },
  {
   "cell_type": "code",
   "execution_count": null,
   "metadata": {},
   "outputs": [],
   "source": [
    "colMeans(mod_sim$samples_cmb)"
   ]
  },
  {
   "cell_type": "code",
   "execution_count": null,
   "metadata": {},
   "outputs": [],
   "source": [
    "summary(mod_sim$samples_cmb)"
   ]
  },
  {
   "cell_type": "markdown",
   "metadata": {},
   "source": [
    "### Two-way additive model (additive?)"
   ]
  },
  {
   "cell_type": "code",
   "execution_count": null,
   "metadata": {},
   "outputs": [],
   "source": [
    "X = model.matrix(~ wool + tension, data=warpbreaks)"
   ]
  },
  {
   "cell_type": "code",
   "execution_count": null,
   "metadata": {},
   "outputs": [],
   "source": [
    "smod = \"model {\n",
    "    for (i in 1:length(y)) {\n",
    "        y[i] ~ dnorm(mu[i], prec)\n",
    "        mu[i] = int + alpha*isWoolB[i] + beta[1]*isTeninsionM[i] + beta[2]*isTensionH[i]    \n",
    "    }\n",
    "    int ~ dnorm(0, 1.e-6)\n",
    "    alpha ~ dnorm(0, 1.e-6)\n",
    "    for (j in 1:2) {\n",
    "        beta[j] ~ dnorm(0, 1.e-6)\n",
    "    }\n",
    "    prec ~ dgamma(3/2., 3.2)\n",
    "    sig = sqrt(1/prec)\n",
    "}\""
   ]
  },
  {
   "cell_type": "code",
   "execution_count": null,
   "metadata": {},
   "outputs": [],
   "source": [
    "dat = list(y=log(warpbreaks$breaks), isWoolB=X[,\"woolB\"], isTeninsionM=X[,\"tensionM\"], isTensionH=X[,\"tensionH\"]) "
   ]
  },
  {
   "cell_type": "code",
   "execution_count": null,
   "metadata": {},
   "outputs": [],
   "source": [
    "jags_mod = jags_model_compile(smod, dat)\n",
    "mod_sim = jags_model_sample(jags_mod, n_iter_ = 1e4, var_names_ = c(\"int\", \"alpha\",\"beta\", \"sig\"))\n",
    "mod_diag = jags_model_diag(mod_sim$samples)"
   ]
  },
  {
   "cell_type": "code",
   "execution_count": null,
   "metadata": {},
   "outputs": [],
   "source": [
    "smod = \"model {\n",
    "    for (i in 1:length(y)) {\n",
    "        y[i] ~ dnorm(mu[wool_group[i], tension_group[i]], prec[wool_group[i], tension_group[i]] )\n",
    "    }\n",
    "    # prec ~ dgamma(3/2.0, 3*1/2.9)\n",
    "    # sig = sqrt(1/prec)\n",
    "    for (j in 1:max(wool_group)) {\n",
    "        for (k in 1:max(tension_group)) {\n",
    "            mu[j,k] ~ dnorm(0, 1e-6)\n",
    "            prec[j,k] ~ dgamma(1/2, 1/2)\n",
    "            sig[j, k] = sqrt(1/prec[j,k])\n",
    "        }\n",
    "    }\n",
    "}\"\n",
    "dat = list(y = log(warpbreaks$breaks), wool_group=as.numeric(warpbreaks$wool), tension_group=as.numeric(warpbreaks$tension) )\n",
    "jags_mod = jags_model_compile(smod, dat)\n",
    "mod_sim = jags_model_sample(jags_mod, var_names_ =c(\"mu\", \"sig\"),n_iter_ = 1e4)\n",
    "mod_diag = jags_model_diag(samples_ = mod_sim$samples)"
   ]
  }
 ],
 "metadata": {
  "kernelspec": {
   "display_name": "R",
   "language": "R",
   "name": "ir"
  },
  "language_info": {
   "codemirror_mode": "r",
   "file_extension": ".r",
   "mimetype": "text/x-r-source",
   "name": "R",
   "pygments_lexer": "r",
   "version": "3.3.2"
  }
 },
 "nbformat": 4,
 "nbformat_minor": 2
}
