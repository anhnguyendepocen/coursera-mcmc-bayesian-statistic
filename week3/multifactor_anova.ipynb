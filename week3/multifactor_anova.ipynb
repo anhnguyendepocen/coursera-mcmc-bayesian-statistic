{
 "cells": [
  {
   "cell_type": "code",
   "execution_count": 4,
   "metadata": {},
   "outputs": [
    {
     "ename": "ERROR",
     "evalue": "Error in library(\"rjags\"): there is no package called ‘rjags’\n",
     "output_type": "error",
     "traceback": [
      "Error in library(\"rjags\"): there is no package called ‘rjags’\nTraceback:\n",
      "1. source(\"../shared.R\")",
      "2. withVisible(eval(ei, envir))",
      "3. eval(ei, envir)",
      "4. eval(expr, envir, enclos)",
      "5. library(\"rjags\")",
      "6. stop(txt, domain = NA)"
     ]
    }
   ],
   "source": [
    "source(\"../shared.R\")"
   ]
  },
  {
   "cell_type": "code",
   "execution_count": 1,
   "metadata": {},
   "outputs": [],
   "source": [
    "data(\"warpbreaks\")"
   ]
  }
 ],
 "metadata": {
  "kernelspec": {
   "display_name": "R",
   "language": "R",
   "name": "ir"
  },
  "language_info": {
   "codemirror_mode": "r",
   "file_extension": ".r",
   "mimetype": "text/x-r-source",
   "name": "R",
   "pygments_lexer": "r",
   "version": "3.3.2"
  }
 },
 "nbformat": 4,
 "nbformat_minor": 2
}
