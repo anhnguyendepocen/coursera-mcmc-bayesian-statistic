{
 "cells": [
  {
   "cell_type": "code",
   "execution_count": null,
   "metadata": {},
   "outputs": [],
   "source": [
    "source(\"shared.R\")\n",
    "library(repr)"
   ]
  },
  {
   "cell_type": "code",
   "execution_count": null,
   "metadata": {},
   "outputs": [],
   "source": [
    "library(\"MASS\")\n",
    "data(\"OME\")\n",
    "?OME # background on the data\n",
    "head(OME)"
   ]
  },
  {
   "cell_type": "code",
   "execution_count": null,
   "metadata": {},
   "outputs": [],
   "source": [
    "any(is.na(OME)) # check for missing values\n",
    "dat = subset(OME, OME != \"N/A\") # manually remove OME missing values identified with \"N/A\"\n",
    "dat$OME = factor(dat$OME)\n",
    "str(dat)"
   ]
  },
  {
   "cell_type": "code",
   "execution_count": null,
   "metadata": {},
   "outputs": [],
   "source": [
    "options(repr.plot.width=8, repr.plot.height=5)"
   ]
  },
  {
   "cell_type": "code",
   "execution_count": null,
   "metadata": {},
   "outputs": [],
   "source": [
    "plot(dat$Age, dat$Correct / dat$Trials )\n",
    "plot(dat$OME, dat$Correct / dat$Trials )\n",
    "plot(dat$Loud, dat$Correct / dat$Trials )\n",
    "plot(dat$Noise, dat$Correct / dat$Trials )"
   ]
  },
  {
   "cell_type": "code",
   "execution_count": null,
   "metadata": {},
   "outputs": [],
   "source": [
    "ddexp = function(x, mu, tau) {\n",
    "  0.5*tau*exp(-tau*abs(x-mu)) \n",
    "}\n",
    "curve(ddexp(x, mu=0.0, tau=1.0), from=-5.0, to=5.0, ylab=\"density\", main=\"Double exponential\\ndistribution\") # double exponential distribution\n",
    "curve(dnorm(x, mean=0.0, sd=1.0), from=-5.0, to=5.0, lty=2, add=TRUE) # normal distribution\n",
    "legend(\"topright\", legend=c(\"double exponential\", \"normal\"), lty=c(1,2), bty=\"n\")"
   ]
  },
  {
   "cell_type": "code",
   "execution_count": null,
   "metadata": {},
   "outputs": [],
   "source": [
    "mod_glm = glm(Correct/Trials ~ Age + OME + Loud + Noise, data=dat, weights=Trials, family=\"binomial\")\n",
    "summary(mod_glm)"
   ]
  },
  {
   "cell_type": "code",
   "execution_count": null,
   "metadata": {},
   "outputs": [],
   "source": [
    "coefficients(mod_glm)"
   ]
  },
  {
   "cell_type": "code",
   "execution_count": null,
   "metadata": {},
   "outputs": [],
   "source": [
    "anova(mod_glm)"
   ]
  },
  {
   "cell_type": "code",
   "execution_count": null,
   "metadata": {},
   "outputs": [],
   "source": [
    "X = model.matrix(mod_glm)[,-1] # -1 removes the column of 1s for the intercept\n",
    "head(X)"
   ]
  },
  {
   "cell_type": "code",
   "execution_count": null,
   "metadata": {},
   "outputs": [],
   "source": [
    "mod_string = \" model {\n",
    "for (i in 1:length(y)) {\n",
    "    y[i] ~ dbin(phi[i], n[i])\n",
    "    logit(phi[i]) = b0 + b[1]*Age[i] + b[2]*OMElow[i] + b[3]*Loud[i] + b[4]*Noiseincoherent[i]\n",
    "    }\n",
    "    \n",
    "    b0 ~ dnorm(0.0, 1.0/5.0^2)\n",
    "    for (j in 1:4) {\n",
    "        b[j] ~ dnorm(0.0, 1.0/4.0^2)\n",
    "    }    \n",
    "} \"\n",
    "inits = function() {\n",
    "    inits = list(\"b\" = rnorm(4, 0, 16))\n",
    "}\n",
    "data_jags = as.list(as.data.frame(X))\n",
    "data_jags$y = dat$Correct # this will not work if there are missing values in dat (because they would be ignored by model.matrix). Always make sure that the data are accurately pre-processed for JAGS.\n",
    "data_jags$n = dat$Trials\n",
    "str(data_jags) # make sure that all variables have the same number of observations (712).\n",
    "#jags_glm = jags_model_compile(mod_string, data_jags, burnout = 1e3)\n",
    "jags_glm = jags.model(textConnection(mod_string), data = data_jags, n.chains = 3)\n",
    "update(jags_glm, 1e3)\n",
    "#plot(residuals(mod_glm, type=\"deviance\"))\n",
    "#plot(fitted(mod_glm), dat$Correct/dat$Trials)"
   ]
  },
  {
   "cell_type": "code",
   "execution_count": null,
   "metadata": {},
   "outputs": [],
   "source": [
    "jags_glm_sim = jags_model_sample(mod_ = jags_glm,  var_names_ = c(\"b0\", \"b\"), n_iter_ = 5e3)"
   ]
  },
  {
   "cell_type": "code",
   "execution_count": null,
   "metadata": {},
   "outputs": [],
   "source": [
    "jags_glm_diag = jags_model_diag(samples_ = jags_glm_sim$samples)"
   ]
  },
  {
   "cell_type": "code",
   "execution_count": null,
   "metadata": {},
   "outputs": [],
   "source": [
    "head(jags_glm_sim$samples_cmb[,1:4])"
   ]
  },
  {
   "cell_type": "code",
   "execution_count": null,
   "metadata": {},
   "outputs": [],
   "source": [
    "par(mfrow=c(3,2))\n",
    "densplot(jags_glm_sim$samples_cmb[,1:5])"
   ]
  },
  {
   "cell_type": "code",
   "execution_count": null,
   "metadata": {},
   "outputs": [],
   "source": [
    "col_means = colMeans(jags_glm_sim$samples_cmb[,1:5])"
   ]
  },
  {
   "cell_type": "code",
   "execution_count": null,
   "metadata": {},
   "outputs": [],
   "source": [
    "col_means['b0']"
   ]
  },
  {
   "cell_type": "code",
   "execution_count": null,
   "metadata": {},
   "outputs": [],
   "source": [
    "y_est = c(60, 0, 50, 1, 1)"
   ]
  },
  {
   "cell_type": "code",
   "execution_count": null,
   "metadata": {},
   "outputs": [],
   "source": [
    "1/ ( 1 + exp( - t(col_means) %*% y_est))"
   ]
  },
  {
   "cell_type": "code",
   "execution_count": null,
   "metadata": {},
   "outputs": [],
   "source": []
  },
  {
   "cell_type": "code",
   "execution_count": null,
   "metadata": {},
   "outputs": [],
   "source": [
    "cbind(head(X), \"const\" = 1)"
   ]
  },
  {
   "cell_type": "code",
   "execution_count": null,
   "metadata": {},
   "outputs": [],
   "source": [
    "install.packages(\"gtools\")\n",
    "library(\"gtools\")"
   ]
  },
  {
   "cell_type": "code",
   "execution_count": null,
   "metadata": {},
   "outputs": [],
   "source": [
    "Z = cbind(X, \"c\" = 1)"
   ]
  },
  {
   "cell_type": "code",
   "execution_count": null,
   "metadata": {},
   "outputs": [],
   "source": []
  },
  {
   "cell_type": "code",
   "execution_count": null,
   "metadata": {},
   "outputs": [],
   "source": [
    "?inv.logit"
   ]
  },
  {
   "cell_type": "code",
   "execution_count": null,
   "metadata": {},
   "outputs": [],
   "source": [
    "phat = inv.logit(Z%*%col_means)"
   ]
  },
  {
   "cell_type": "code",
   "execution_count": null,
   "metadata": {},
   "outputs": [],
   "source": [
    "head(phat)"
   ]
  },
  {
   "cell_type": "code",
   "execution_count": null,
   "metadata": {},
   "outputs": [],
   "source": [
    "(tab0.7 = table(phat > 0.7, (dat$Correct / dat$Trials) > 0.7))\n",
    "sum(diag(tab0.7)) / sum(tab0.7)"
   ]
  },
  {
   "cell_type": "code",
   "execution_count": null,
   "metadata": {},
   "outputs": [],
   "source": [
    "dist(phat)"
   ]
  }
 ],
 "metadata": {
  "kernelspec": {
   "display_name": "R",
   "language": "R",
   "name": "ir"
  },
  "language_info": {
   "codemirror_mode": "r",
   "file_extension": ".r",
   "mimetype": "text/x-r-source",
   "name": "R",
   "pygments_lexer": "r",
   "version": "3.3.2"
  }
 },
 "nbformat": 4,
 "nbformat_minor": 2
}
