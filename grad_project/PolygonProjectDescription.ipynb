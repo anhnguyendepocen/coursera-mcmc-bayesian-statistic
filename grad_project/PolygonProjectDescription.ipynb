{
 "cells": [
  {
   "cell_type": "markdown",
   "metadata": {},
   "source": [
    "## Definition of the environment\n",
    "\n",
    "There is a set of smartphone users (panel) sending location data to the database.\n",
    "\n",
    "The location data is being collected on a non-regular stochastic basis from mobile phones.\n",
    "\n",
    "Data collection is heavily defined by several unpredictable factors:\n",
    "\n",
    "- Smartphone usage patterns (how often users turn it on)\n",
    "\n",
    "\n",
    "- Smartphone operational system energy saving patterns \n",
    "\n",
    "These two factors are very hard to model, therefore location data sending has non systematic ocasionally periodical stochastics nature.\n",
    "\n",
    "And different users send ver different amount of location data on a daily basis\n",
    "\n",
    "## The problem\n",
    "\n",
    "We would like to count people whom we saw in a polygon and \n",
    "\n",
    "__try to adjust for the people who were in a plygon but didn't send us location from it due to stochastic nature of location updating__\n",
    "\n",
    "Let's say in polygon $L_1$ we noticed $n_1$ users and there were $k_1$ users who were in a polygon $L_1$ but didn't pass location to us from it because of location non-systematic gathering.\n",
    "\n",
    "The goal would be to estimate $k_1$ trying to use characteristics  \n",
    "\n",
    "And we called these people as passers by."
   ]
  }
 ],
 "metadata": {
  "kernelspec": {
   "display_name": "Python 3",
   "language": "python",
   "name": "python3"
  },
  "language_info": {
   "codemirror_mode": {
    "name": "ipython",
    "version": 3
   },
   "file_extension": ".py",
   "mimetype": "text/x-python",
   "name": "python",
   "nbconvert_exporter": "python",
   "pygments_lexer": "ipython3",
   "version": "3.6.3"
  }
 },
 "nbformat": 4,
 "nbformat_minor": 2
}
