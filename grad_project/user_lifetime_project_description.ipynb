{
 "cells": [
  {
   "cell_type": "markdown",
   "metadata": {},
   "source": [
    "## 1. The problem\n",
    "\n",
    "There is a userbase (`a Panel`) of smartphone users who send the data to a backend on a daily basis.\n",
    "\n",
    "Data gathering process happens via Android Library integrated into several applications (we call these applications `Publishers`)\n",
    "\n",
    "If users has the application with SDK installed on their phone, the app starts gathering the data and sends it to the backend.\n",
    "\n",
    "Data gathering process is transparent to the user and user explicitly agrees to send the data and usually she gets some rewards if she decides to share the data.\n",
    "\n",
    "All data is gathered on anonymous basis and no PII (personal identifiable information is being collected)\n",
    "\n",
    "The type of data we're mostly interested in right now is Location data gathered for the past 6 month.\n",
    "\n",
    "The questions in hand are:\n",
    "\n",
    "- How much location a new user is expected to send on average during periods of time?\n",
    "\n",
    "- What is the probability that new user is going to send us 100 locations within a month?\n",
    "\n",
    "- What is the expected number of locations sent from different publishers?"
   ]
  },
  {
   "cell_type": "markdown",
   "metadata": {},
   "source": [
    "## 2. The data\n",
    "\n",
    "| uid | days | nloc  | nwifi | nheartbeats | publisher |\n",
    "| ------------- |:---:| :---:| :---:| :---:| \n",
    "|1| 10| 5| 13| 20| A|\n",
    "\n",
    "- _uid_ - user identificator\n",
    "- _days_ - number of days in the panel\n",
    "- _nloc_ - net count of location scans sent by user during observational period\n",
    "- _nwifi_ - net count of wifi scans sent by user during observational period\n",
    "- _nheartbeats_ - net count of heartbeats (scheduled event) scans sent by user during observational period.\n",
    "   Sometimes users cannot send wifi or locations because of the permissions and we generate heartbeat to understand whether these users exist.\n",
    "- _publisher_ - name of the application which has the Android Data Sending Library integrated\n"
   ]
  }
 ],
 "metadata": {
  "kernelspec": {
   "display_name": "Python 3",
   "language": "python",
   "name": "python3"
  },
  "language_info": {
   "codemirror_mode": {
    "name": "ipython",
    "version": 3
   },
   "file_extension": ".py",
   "mimetype": "text/x-python",
   "name": "python",
   "nbconvert_exporter": "python",
   "pygments_lexer": "ipython3",
   "version": "3.6.3"
  }
 },
 "nbformat": 4,
 "nbformat_minor": 2
}
